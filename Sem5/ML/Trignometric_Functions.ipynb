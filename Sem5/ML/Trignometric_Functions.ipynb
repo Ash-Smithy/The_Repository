{
 "cells": [
  {
   "cell_type": "code",
   "execution_count": 3,
   "metadata": {},
   "outputs": [
    {
     "name": "stdout",
     "output_type": "stream",
     "text": [
      "Sine of different angles\n",
      "[0.         0.5        0.70710678 0.8660254  1.        ]\n",
      "Cosine of different angles\n",
      "[1.00000000e+00 8.66025404e-01 7.07106781e-01 5.00000000e-01\n",
      " 6.12323400e-17]\n",
      "Tangent values for given angles\n",
      "[0.00000000e+00 5.77350269e-01 1.00000000e+00 1.73205081e+00\n",
      " 1.63312394e+16]\n",
      "Arcsin of different abgles: \n",
      "[0.         0.55106958 0.90333911        nan        nan]\n",
      "ArcCos of different abgles: \n",
      "[1.57079633 1.01972674 0.66745722        nan        nan]\n",
      "Arctan of different abgles: \n",
      "[0.         0.48234791 0.66577375 0.80844879 1.00388482]\n"
     ]
    },
    {
     "name": "stderr",
     "output_type": "stream",
     "text": [
      "C:\\Users\\pjaas\\AppData\\Local\\Temp\\ipykernel_14588\\1958022228.py:15: RuntimeWarning: invalid value encountered in arcsin\n",
      "  print(np.arcsin(a*np.pi/180))\n",
      "C:\\Users\\pjaas\\AppData\\Local\\Temp\\ipykernel_14588\\1958022228.py:17: RuntimeWarning: invalid value encountered in arccos\n",
      "  print(np.arccos(a*np.pi/180))\n"
     ]
    }
   ],
   "source": [
    "import numpy as np\n",
    "a=np.array([0,30,45,60,90])\n",
    "\n",
    "#Convert to radians by milyiplying with pi/180\n",
    "print(\"Sine of different angles\")\n",
    "print(np.sin(a*np.pi/180))\n",
    "\n",
    "print(\"Cosine of different angles\")\n",
    "print(np.cos(a*np.pi/180))\n",
    "\n",
    "print(\"Tangent values for given angles\")\n",
    "print(np.tan(a*np.pi/180))\n",
    "\n",
    "print(\"Arcsin of different anbgles: \")\n",
    "print(np.arcsin(a*np.pi/180))\n",
    "print(\"ArcCos of different angles: \")\n",
    "print(np.arccos(a*np.pi/180))\n",
    "print(\"Arctan of different angles: \")\n",
    "print(np.arctan(a*np.pi/180))"
   ]
  }
 ],
 "metadata": {
  "kernelspec": {
   "display_name": "Python 3.10.1 64-bit",
   "language": "python",
   "name": "python3"
  },
  "language_info": {
   "codemirror_mode": {
    "name": "ipython",
    "version": 3
   },
   "file_extension": ".py",
   "mimetype": "text/x-python",
   "name": "python",
   "nbconvert_exporter": "python",
   "pygments_lexer": "ipython3",
   "version": "3.10.1"
  },
  "orig_nbformat": 4,
  "vscode": {
   "interpreter": {
    "hash": "369f2c481f4da34e4445cda3fffd2e751bd1c4d706f27375911949ba6bb62e1c"
   }
  }
 },
 "nbformat": 4,
 "nbformat_minor": 2
}
