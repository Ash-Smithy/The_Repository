{
 "cells": [
  {
   "cell_type": "code",
   "execution_count": 47,
   "metadata": {},
   "outputs": [],
   "source": [
    "import pandas as pd\n",
    "import numpy as np"
   ]
  },
  {
   "cell_type": "markdown",
   "metadata": {},
   "source": [
    "-- Pandas\n",
    "        has two important data structures:\n",
    "\n",
    "- Series:\n",
    "    A series is a one-dimensional array-like object containing an array of data( of amy Numpy data type) and an associated array of data labels, called index. The simplest series is formed from only an array of data:"
   ]
  },
  {
   "cell_type": "code",
   "execution_count": 16,
   "metadata": {},
   "outputs": [
    {
     "name": "stdout",
     "output_type": "stream",
     "text": [
      "0    4\n",
      "1    7\n",
      "2   -5\n",
      "3    3\n",
      "dtype: int64\n"
     ]
    },
    {
     "data": {
      "text/plain": [
       "RangeIndex(start=0, stop=4, step=1)"
      ]
     },
     "execution_count": 16,
     "metadata": {},
     "output_type": "execute_result"
    }
   ],
   "source": [
    "#Series\n",
    "obj = pd.Series([4,7,-5,3])\n",
    "print(obj)\n",
    "#to view the values, tupe\n",
    "obj.values\n",
    "#To view the index, type\n",
    "obj.index"
   ]
  },
  {
   "cell_type": "code",
   "execution_count": 20,
   "metadata": {},
   "outputs": [
    {
     "name": "stdout",
     "output_type": "stream",
     "text": [
      "d    4\n",
      "b    7\n",
      "a   -5\n",
      "c    3\n",
      "dtype: int64\n"
     ]
    }
   ],
   "source": [
    "#Often iy is desirable to creat eseries with an index identifying each data point:\n",
    "#Adding index to the series\n",
    "obj2=pd.Series([4,7,-5,3],index=['d','b','a','c'])\n",
    "print(obj2)"
   ]
  },
  {
   "cell_type": "code",
   "execution_count": 31,
   "metadata": {},
   "outputs": [
    {
     "name": "stdout",
     "output_type": "stream",
     "text": [
      "-5\n"
     ]
    },
    {
     "data": {
      "text/plain": [
       "c    3\n",
       "a   -5\n",
       "d    6\n",
       "dtype: int64"
      ]
     },
     "execution_count": 31,
     "metadata": {},
     "output_type": "execute_result"
    }
   ],
   "source": [
    "#Extracting data by index.\n",
    "#W can use the value in the index when selecting single values or set of values\n",
    "print(obj2['a'])\n",
    "obj2['d'] = 6\n",
    "obj2[['c','a','d']]\n"
   ]
  },
  {
   "cell_type": "code",
   "execution_count": 33,
   "metadata": {},
   "outputs": [
    {
     "name": "stdout",
     "output_type": "stream",
     "text": [
      "ohio      35000\n",
      "Texas     71000\n",
      "Oregon     1600\n",
      "Utah       5000\n",
      "dtype: int64\n"
     ]
    }
   ],
   "source": [
    "#Converting Python dictionary to Panda Series\n",
    "sdata={'ohio':35000,'Texas':71000,'Oregon':1600,'Utah':5000}\n",
    "obj3 = pd.Series(sdata)\n",
    "print(obj3)"
   ]
  },
  {
   "cell_type": "code",
   "execution_count": 41,
   "metadata": {},
   "outputs": [
    {
     "data": {
      "text/plain": [
       "Bob      35000\n",
       "Steve    71000\n",
       "Jeff      1600\n",
       "Ryan      5000\n",
       "dtype: int64"
      ]
     },
     "execution_count": 41,
     "metadata": {},
     "output_type": "execute_result"
    }
   ],
   "source": [
    "#Changing series index\n",
    "#The series index can be altered in place by assignment\n",
    "\n",
    "obj3.index = ['Bob','Steve','Jeff','Ryan']\n",
    "obj3"
   ]
  },
  {
   "cell_type": "code",
   "execution_count": 45,
   "metadata": {},
   "outputs": [
    {
     "name": "stdout",
     "output_type": "stream",
     "text": [
      "Series([], dtype: float64)\n"
     ]
    },
    {
     "name": "stderr",
     "output_type": "stream",
     "text": [
      "C:\\Users\\pjaas\\AppData\\Local\\Temp\\ipykernel_5068\\3319684315.py:3: FutureWarning: The default dtype for empty Series will be 'object' instead of 'float64' in a future version. Specify a dtype explicitly to silence this warning.\n",
      "  s = pd.Series()\n"
     ]
    }
   ],
   "source": [
    "#Creating an empty series\n",
    "# The basic series which can be created is an empty series\n",
    "s = pd.Series()\n",
    "print(s)\n"
   ]
  },
  {
   "cell_type": "code",
   "execution_count": 49,
   "metadata": {},
   "outputs": [
    {
     "name": "stdout",
     "output_type": "stream",
     "text": [
      "0    a\n",
      "1    b\n",
      "2    c\n",
      "3    d\n",
      "dtype: object\n"
     ]
    }
   ],
   "source": [
    "#Creating a series from ndarray\n",
    "data = np.array(['a','b','c','d'])\n",
    "s = pd.Series(data)\n",
    "print(s)"
   ]
  },
  {
   "cell_type": "code",
   "execution_count": 53,
   "metadata": {},
   "outputs": [
    {
     "name": "stdout",
     "output_type": "stream",
     "text": [
      "0    a\n",
      "1    b\n",
      "2    c\n",
      "3    d\n",
      "dtype: object\n"
     ]
    }
   ],
   "source": [
    "#Creating a series from scalar\n",
    "k = pd.Series(5,index=[0,1,2,3])\n",
    "print(s)"
   ]
  },
  {
   "cell_type": "code",
   "execution_count": 62,
   "metadata": {},
   "outputs": [
    {
     "name": "stdout",
     "output_type": "stream",
     "text": [
      "First three elements:\n",
      "a    1\n",
      "b    2\n",
      "c    3\n",
      "dtype: int64\n",
      "Last three elements:\n",
      "c    3\n",
      "d    4\n",
      "e    5\n",
      "dtype: int64\n"
     ]
    }
   ],
   "source": [
    "#To retreieve the first three elements in the series if a colon is inserted infront of it, all items from that index onwards will be extracted. If two parameters are used, items between the two indices will be extracted but not including the stop index\n",
    "s = pd.Series([1,2,3,4,5],index=['a','b','c','d','e'])\n",
    "print(\"First three elements:\")\n",
    "print(s[:3])\n",
    "\n",
    "#Retriving last three elements\n",
    "print(\"Last three elements:\")\n",
    "print(s[-3:])"
   ]
  },
  {
   "cell_type": "markdown",
   "metadata": {},
   "source": [
    "- Dataframe:\n",
    "\n",
    "    It is a two-dimensional data structure, data is aligned in rows and columns\n",
    "    \n",
    "    Features of Dataframe:\n",
    "    - Potentially columns are of different types\n",
    "    - Size is Mutable\n",
    "    - Labeled axes (rows and columns)\n",
    "    - Can perform Arithmetic operations on rows and columns\n",
    "\n",
    "Syntax for creating DataFrame \n",
    "pandas.DataFrame(data,index,columns,dtype,copy)\n",
    "\n",
    "DataFrame can be created using various inputs like\n",
    "- Lists\n",
    "- Dictionary\n",
    "- Series\n",
    "- ndarrays\n",
    "- and another dataframe"
   ]
  },
  {
   "cell_type": "code",
   "execution_count": 68,
   "metadata": {},
   "outputs": [
    {
     "name": "stdout",
     "output_type": "stream",
     "text": [
      "Empty DataFrame\n",
      "Columns: []\n",
      "Index: []\n"
     ]
    }
   ],
   "source": [
    "#Creating an empty DataFrame\n",
    "df = pd.DataFrame()\n",
    "print(df)"
   ]
  },
  {
   "cell_type": "code",
   "execution_count": 83,
   "metadata": {},
   "outputs": [
    {
     "name": "stdout",
     "output_type": "stream",
     "text": [
      "Example 1: \n",
      "   0\n",
      "0  1\n",
      "1  2\n",
      "2  3\n",
      "3  4\n",
      "4  5\n",
      "Example 2: \n",
      "     Name  Age\n",
      "0    Alex   10\n",
      "1     Bob   12\n",
      "2  Clarke   13\n",
      "Names are:\n",
      "  0      Alex\n",
      "1       Bob\n",
      "2    Clarke\n",
      "Name: Name, dtype: object\n",
      "Ages are:\n",
      "  0    10\n",
      "1    12\n",
      "2    13\n",
      "Name: Age, dtype: int64\n"
     ]
    }
   ],
   "source": [
    "# How to create dataframe using list\n",
    "\n",
    "#Example 1\n",
    "data = [1,2,3,4,5]\n",
    "df = pd.DataFrame(data)\n",
    "print(\"Example 1: \")\n",
    "print(df)\n",
    "\n",
    "#Example 2\n",
    "data = [['Alex',10],['Bob',12],['Clarke',13]]\n",
    "adf = pd.DataFrame(data,columns=['Name','Age'])\n",
    "print(\"Example 2: \")\n",
    "print (adf)\n",
    "\n",
    "#To print only the names type\n",
    "print(\"Names are:\\n \", adf['Name'])\n",
    "print(\"Ages are:\\n \", adf['Age'])"
   ]
  },
  {
   "cell_type": "code",
   "execution_count": null,
   "metadata": {},
   "outputs": [],
   "source": []
  }
 ],
 "metadata": {
  "kernelspec": {
   "display_name": "Python 3.10.1 64-bit",
   "language": "python",
   "name": "python3"
  },
  "language_info": {
   "codemirror_mode": {
    "name": "ipython",
    "version": 3
   },
   "file_extension": ".py",
   "mimetype": "text/x-python",
   "name": "python",
   "nbconvert_exporter": "python",
   "pygments_lexer": "ipython3",
   "version": "3.10.1"
  },
  "orig_nbformat": 4,
  "vscode": {
   "interpreter": {
    "hash": "369f2c481f4da34e4445cda3fffd2e751bd1c4d706f27375911949ba6bb62e1c"
   }
  }
 },
 "nbformat": 4,
 "nbformat_minor": 2
}
