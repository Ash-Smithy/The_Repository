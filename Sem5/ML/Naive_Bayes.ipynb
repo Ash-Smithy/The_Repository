{
 "cells": [
  {
   "cell_type": "code",
   "execution_count": 16,
   "metadata": {},
   "outputs": [
    {
     "name": "stdout",
     "output_type": "stream",
     "text": [
      "['Versicolor' 'Versicolor' 'Setosa' 'Setosa' 'Virginica' 'Setosa'\n",
      " 'Versicolor' 'Virginica' 'Versicolor' 'Virginica' 'Versicolor'\n",
      " 'Virginica' 'Setosa' 'Setosa' 'Versicolor' 'Setosa' 'Setosa' 'Virginica'\n",
      " 'Setosa' 'Virginica' 'Versicolor' 'Versicolor' 'Versicolor' 'Versicolor'\n",
      " 'Virginica' 'Setosa' 'Virginica' 'Versicolor' 'Versicolor' 'Setosa'\n",
      " 'Virginica' 'Setosa' 'Setosa' 'Versicolor' 'Virginica' 'Virginica'\n",
      " 'Virginica' 'Virginica' 'Setosa' 'Versicolor' 'Versicolor' 'Versicolor'\n",
      " 'Setosa' 'Setosa' 'Virginica']\n",
      "0.91\n",
      "[[15  0  0]\n",
      " [ 0 13  1]\n",
      " [ 0  3 13]]\n"
     ]
    }
   ],
   "source": [
    "import pandas as pd\n",
    "import matplotlib.pyplot as plt\n",
    "from sklearn.model_selection import train_test_split\n",
    "\n",
    "data = pd.read_csv('iris.csv')\n",
    "x = data.drop('variety',axis=1)\n",
    "y = data['variety']\n",
    "xtrain,xtest,ytrain,ytest = train_test_split(x,y,test_size=0.3)\n",
    "\n",
    "from sklearn.preprocessing import StandardScaler\n",
    "sc = StandardScaler()\n",
    "xtest = sc.fit_transform(xtest)\n",
    "xtrain = sc.transform(xtrain)\n",
    "\n",
    "from sklearn.naive_bayes import GaussianNB\n",
    "gmodel = GaussianNB()\n",
    "gmodel.fit(xtrain,ytrain)\n",
    "gpred = gmodel.predict(xtest)\n",
    "\n",
    "print(gpred)\n",
    "from sklearn.metrics import confusion_matrix,accuracy_score\n",
    "cfm = accuracy_score(ytest,gpred)\n",
    "cfr = confusion_matrix(ytest,gpred)\n",
    "print (\"{:.2f}\".format(cfm))\n",
    "print (cfr)"
   ]
  },
  {
   "cell_type": "code",
   "execution_count": 7,
   "metadata": {},
   "outputs": [
    {
     "name": "stdout",
     "output_type": "stream",
     "text": [
      "['Setosa' 'Virginica' 'Setosa' 'Virginica' 'Virginica' 'Setosa' 'Setosa'\n",
      " 'Setosa' 'Virginica' 'Setosa' 'Virginica' 'Virginica' 'Setosa' 'Setosa'\n",
      " 'Virginica' 'Setosa' 'Setosa' 'Virginica' 'Virginica' 'Virginica'\n",
      " 'Setosa' 'Virginica' 'Setosa' 'Versicolor' 'Versicolor' 'Virginica'\n",
      " 'Versicolor' 'Versicolor' 'Setosa' 'Virginica' 'Setosa' 'Versicolor'\n",
      " 'Versicolor' 'Virginica' 'Setosa' 'Setosa' 'Versicolor' 'Virginica'\n",
      " 'Setosa' 'Versicolor' 'Versicolor' 'Versicolor' 'Setosa' 'Versicolor'\n",
      " 'Versicolor']\n",
      "0.96\n",
      "[[18  0  0]\n",
      " [ 0 11  1]\n",
      " [ 0  1 14]]\n"
     ]
    }
   ],
   "source": [
    "\n",
    "import pandas as pd\n",
    "from sklearn.model_selection import train_test_split\n",
    "\n",
    "data = pd.read_csv('iris.csv')\n",
    "x = data.drop('variety',axis=1)\n",
    "y = data['variety']\n",
    "\n",
    "xtrain,xtest,ytrain,ytest = train_test_split(x,y,test_size=0.3)\n",
    "\n",
    "from sklearn.preprocessing import StandardScaler\n",
    "sc = StandardScaler()\n",
    "xtest = sc.fit_transform(xtest)\n",
    "xtrain = sc.transform(xtrain)\n",
    "\n",
    "from sklearn.naive_bayes import GaussianNB\n",
    "gnb = GaussianNB()\n",
    "gnb.fit(xtrain,ytrain)\n",
    "gpred = gnb.predict(xtest)\n",
    "\n",
    "from sklearn.metrics import confusion_matrix\n",
    "cfm = confusion_matrix(ytest,gpred)\n",
    "print(cfm)"
   ]
  }
 ],
 "metadata": {
  "kernelspec": {
   "display_name": "Python 3.10.6 64-bit",
   "language": "python",
   "name": "python3"
  },
  "language_info": {
   "codemirror_mode": {
    "name": "ipython",
    "version": 3
   },
   "file_extension": ".py",
   "mimetype": "text/x-python",
   "name": "python",
   "nbconvert_exporter": "python",
   "pygments_lexer": "ipython3",
   "version": "3.10.6"
  },
  "orig_nbformat": 4,
  "vscode": {
   "interpreter": {
    "hash": "2d08b39f4dbef70f0d8175b93e3eb1909708a293dfc021300289f58bfc754009"
   }
  }
 },
 "nbformat": 4,
 "nbformat_minor": 2
}
