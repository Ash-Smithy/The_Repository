{
 "cells": [
  {
   "cell_type": "code",
   "execution_count": 1,
   "metadata": {},
   "outputs": [
    {
     "name": "stdout",
     "output_type": "stream",
     "text": [
      "    Name  Age  Rating\n",
      "0    Tom   25    4.23\n",
      "1  James   26    3.24\n",
      "2  Ricky   25    3.98\n",
      "3    Vin   23    2.56\n",
      "4  Steve   30    3.20\n",
      "5  Smith   29    4.60\n",
      "6   Jack   23    3.80\n"
     ]
    }
   ],
   "source": [
    "#Creating dataframe in pandas\n",
    "import pandas as pd\n",
    "import numpy as np\n",
    "d={'Name':pd.Series(['Tom','James','Ricky','Vin','Steve','Smith','Jack']),'Age':pd.Series([25,26,25,23,30,29,23]),'Rating':pd.Series([4.23,3.24,3.98,2.56,3.20,4.6,3.8])}\n",
    "df=pd.DataFrame(d)\n",
    "print(df)"
   ]
  },
  {
   "cell_type": "code",
   "execution_count": 2,
   "metadata": {},
   "outputs": [
    {
     "name": "stdout",
     "output_type": "stream",
     "text": [
      "           0      1      2     3      4      5     6\n",
      "Name     Tom  James  Ricky   Vin  Steve  Smith  Jack\n",
      "Age       25     26     25    23     30     29    23\n",
      "Rating  4.23   3.24   3.98  2.56    3.2    4.6   3.8\n"
     ]
    }
   ],
   "source": [
    "#Transpose\n",
    "print(df.T)"
   ]
  },
  {
   "cell_type": "code",
   "execution_count": 3,
   "metadata": {},
   "outputs": [
    {
     "name": "stdout",
     "output_type": "stream",
     "text": [
      "Row axis labels and column axis labels are: \n",
      "[RangeIndex(start=0, stop=7, step=1), Index(['Name', 'Age', 'Rating'], dtype='object')]\n"
     ]
    }
   ],
   "source": [
    "print(\"Row axis labels and column axis labels are: \")\n",
    "print(df.axes)"
   ]
  },
  {
   "cell_type": "code",
   "execution_count": 4,
   "metadata": {},
   "outputs": [
    {
     "name": "stdout",
     "output_type": "stream",
     "text": [
      "Name       object\n",
      "Age         int64\n",
      "Rating    float64\n",
      "dtype: object\n"
     ]
    }
   ],
   "source": [
    "#Datatypes of all the columns\n",
    "print(df.dtypes)"
   ]
  },
  {
   "cell_type": "code",
   "execution_count": 5,
   "metadata": {},
   "outputs": [
    {
     "name": "stdout",
     "output_type": "stream",
     "text": [
      "False\n"
     ]
    }
   ],
   "source": [
    "#To check if dataframe is empty or not\n",
    "print(df.empty)"
   ]
  },
  {
   "cell_type": "code",
   "execution_count": 6,
   "metadata": {},
   "outputs": [
    {
     "name": "stdout",
     "output_type": "stream",
     "text": [
      "Dimensions are:  2\n"
     ]
    }
   ],
   "source": [
    "#To get the dimensions of the dataframe\n",
    "print(\"Dimensions are: \",df.ndim)"
   ]
  },
  {
   "cell_type": "code",
   "execution_count": 7,
   "metadata": {},
   "outputs": [
    {
     "name": "stdout",
     "output_type": "stream",
     "text": [
      "Shape of the object (7, 3)\n"
     ]
    }
   ],
   "source": [
    "#Share pf the object\n",
    "print(\"Shape of the object\",df.shape)"
   ]
  },
  {
   "cell_type": "code",
   "execution_count": 8,
   "metadata": {},
   "outputs": [
    {
     "name": "stdout",
     "output_type": "stream",
     "text": [
      "Total number of elements:  21\n"
     ]
    }
   ],
   "source": [
    "print(\"Total number of elements: \",df.size)"
   ]
  },
  {
   "cell_type": "code",
   "execution_count": 9,
   "metadata": {},
   "outputs": [
    {
     "name": "stdout",
     "output_type": "stream",
     "text": [
      "Sample of dataframe     Name  Age  Rating\n",
      "0    Tom   25    4.23\n",
      "1  James   26    3.24\n"
     ]
    }
   ],
   "source": [
    "print(\"Sample of dataframe\", df.head(2))\n",
    "#df.head() displays 5 rows by default else the value passed"
   ]
  },
  {
   "cell_type": "markdown",
   "metadata": {},
   "source": [
    "**#Descriptive statistics**"
   ]
  },
  {
   "cell_type": "code",
   "execution_count": 10,
   "metadata": {},
   "outputs": [
    {
     "name": "stdout",
     "output_type": "stream",
     "text": [
      "Name      TomJamesRickyVinSteveSmithJack\n",
      "Age                                  181\n",
      "Rating                             25.61\n",
      "dtype: object\n"
     ]
    }
   ],
   "source": [
    "# sum(), it returns the sum of the values of rquested axes\n",
    "# By default axes is zero, df.sum() is same as df.sum(0)\n",
    "print(df.sum())"
   ]
  },
  {
   "cell_type": "code",
   "execution_count": 11,
   "metadata": {},
   "outputs": [
    {
     "name": "stdout",
     "output_type": "stream",
     "text": [
      "0    29.23\n",
      "1    29.24\n",
      "2    28.98\n",
      "3    25.56\n",
      "4    33.20\n",
      "5    33.60\n",
      "6    26.80\n",
      "dtype: float64\n"
     ]
    },
    {
     "name": "stderr",
     "output_type": "stream",
     "text": [
      "C:\\Users\\pjaas\\AppData\\Local\\Temp\\ipykernel_12992\\3415142062.py:3: FutureWarning: Dropping of nuisance columns in DataFrame reductions (with 'numeric_only=None') is deprecated; in a future version this will raise TypeError.  Select only valid columns before calling the reduction.\n",
      "  print(df.sum(1))\n"
     ]
    }
   ],
   "source": [
    "# TO add columns, we write df.sum(1)\n",
    "\n",
    "print(df.sum(1))"
   ]
  },
  {
   "cell_type": "code",
   "execution_count": 12,
   "metadata": {},
   "outputs": [
    {
     "name": "stdout",
     "output_type": "stream",
     "text": [
      "Age       25.857143\n",
      "Rating     3.658571\n",
      "dtype: float64\n"
     ]
    },
    {
     "name": "stderr",
     "output_type": "stream",
     "text": [
      "C:\\Users\\pjaas\\AppData\\Local\\Temp\\ipykernel_12992\\3072421378.py:3: FutureWarning: Dropping of nuisance columns in DataFrame reductions (with 'numeric_only=None') is deprecated; in a future version this will raise TypeError.  Select only valid columns before calling the reduction.\n",
      "  print(df.mean())\n"
     ]
    }
   ],
   "source": [
    "# To get the average value we use df.mean()\n",
    "\n",
    "print(df.mean())"
   ]
  },
  {
   "cell_type": "code",
   "execution_count": 13,
   "metadata": {},
   "outputs": [
    {
     "name": "stdout",
     "output_type": "stream",
     "text": [
      "Age       25.0\n",
      "Rating     3.8\n",
      "dtype: float64\n"
     ]
    },
    {
     "name": "stderr",
     "output_type": "stream",
     "text": [
      "C:\\Users\\pjaas\\AppData\\Local\\Temp\\ipykernel_12992\\753683220.py:2: FutureWarning: Dropping of nuisance columns in DataFrame reductions (with 'numeric_only=None') is deprecated; in a future version this will raise TypeError.  Select only valid columns before calling the reduction.\n",
      "  print(df.median())\n"
     ]
    }
   ],
   "source": [
    "# TO get the middle value, we use df.median()\n",
    "print(df.median())"
   ]
  },
  {
   "cell_type": "code",
   "execution_count": 14,
   "metadata": {},
   "outputs": [
    {
     "name": "stdout",
     "output_type": "stream",
     "text": [
      "Age       2.734262\n",
      "Rating    0.698628\n",
      "dtype: float64\n"
     ]
    },
    {
     "name": "stderr",
     "output_type": "stream",
     "text": [
      "C:\\Users\\pjaas\\AppData\\Local\\Temp\\ipykernel_12992\\1884633623.py:2: FutureWarning: Dropping of nuisance columns in DataFrame reductions (with 'numeric_only=None') is deprecated; in a future version this will raise TypeError.  Select only valid columns before calling the reduction.\n",
      "  print(df.std())\n"
     ]
    }
   ],
   "source": [
    "# To get the standard deviation of the values\n",
    "print(df.std())"
   ]
  },
  {
   "cell_type": "code",
   "execution_count": 15,
   "metadata": {},
   "outputs": [
    {
     "name": "stdout",
     "output_type": "stream",
     "text": [
      "Name      Vin\n",
      "Age        30\n",
      "Rating    4.6\n",
      "dtype: object\n"
     ]
    }
   ],
   "source": [
    "#To get the maximum values\n",
    "print(df.max())"
   ]
  },
  {
   "cell_type": "code",
   "execution_count": 16,
   "metadata": {},
   "outputs": [
    {
     "name": "stdout",
     "output_type": "stream",
     "text": [
      "Name      Jack\n",
      "Age         23\n",
      "Rating    2.56\n",
      "dtype: object\n"
     ]
    }
   ],
   "source": [
    "# To get the minimum value\n",
    "print(df.min())"
   ]
  },
  {
   "cell_type": "code",
   "execution_count": 17,
   "metadata": {},
   "outputs": [
    {
     "ename": "TypeError",
     "evalue": "bad operand type for abs(): 'str'",
     "output_type": "error",
     "traceback": [
      "\u001b[1;31m---------------------------------------------------------------------------\u001b[0m",
      "\u001b[1;31mTypeError\u001b[0m                                 Traceback (most recent call last)",
      "\u001b[1;32mc:\\Users\\pjaas\\Documents\\GitHub\\The_Repository\\Sem5\\ML\\Dataframes.ipynb Cell 18\u001b[0m in \u001b[0;36m<cell line: 2>\u001b[1;34m()\u001b[0m\n\u001b[0;32m      <a href='vscode-notebook-cell:/c%3A/Users/pjaas/Documents/GitHub/The_Repository/Sem5/ML/Dataframes.ipynb#X23sZmlsZQ%3D%3D?line=0'>1</a>\u001b[0m \u001b[39m#To get the absolute value\u001b[39;00m\n\u001b[1;32m----> <a href='vscode-notebook-cell:/c%3A/Users/pjaas/Documents/GitHub/The_Repository/Sem5/ML/Dataframes.ipynb#X23sZmlsZQ%3D%3D?line=1'>2</a>\u001b[0m \u001b[39mprint\u001b[39m(df\u001b[39m.\u001b[39;49mabs())\n",
      "File \u001b[1;32mc:\\Python310\\lib\\site-packages\\pandas\\core\\generic.py:1647\u001b[0m, in \u001b[0;36mNDFrame.abs\u001b[1;34m(self)\u001b[0m\n\u001b[0;32m   1579\u001b[0m \u001b[39m@final\u001b[39m\n\u001b[0;32m   1580\u001b[0m \u001b[39mdef\u001b[39;00m \u001b[39mabs\u001b[39m(\u001b[39mself\u001b[39m: NDFrameT) \u001b[39m-\u001b[39m\u001b[39m>\u001b[39m NDFrameT:\n\u001b[0;32m   1581\u001b[0m     \u001b[39m\"\"\"\u001b[39;00m\n\u001b[0;32m   1582\u001b[0m \u001b[39m    Return a Series/DataFrame with absolute numeric value of each element.\u001b[39;00m\n\u001b[0;32m   1583\u001b[0m \n\u001b[1;32m   (...)\u001b[0m\n\u001b[0;32m   1645\u001b[0m \u001b[39m    3    7   40  -50\u001b[39;00m\n\u001b[0;32m   1646\u001b[0m \u001b[39m    \"\"\"\u001b[39;00m\n\u001b[1;32m-> 1647\u001b[0m     res_mgr \u001b[39m=\u001b[39m \u001b[39mself\u001b[39;49m\u001b[39m.\u001b[39;49m_mgr\u001b[39m.\u001b[39;49mapply(np\u001b[39m.\u001b[39;49mabs)\n\u001b[0;32m   1648\u001b[0m     \u001b[39mreturn\u001b[39;00m \u001b[39mself\u001b[39m\u001b[39m.\u001b[39m_constructor(res_mgr)\u001b[39m.\u001b[39m__finalize__(\u001b[39mself\u001b[39m, name\u001b[39m=\u001b[39m\u001b[39m\"\u001b[39m\u001b[39mabs\u001b[39m\u001b[39m\"\u001b[39m)\n",
      "File \u001b[1;32mc:\\Python310\\lib\\site-packages\\pandas\\core\\internals\\managers.py:302\u001b[0m, in \u001b[0;36mBaseBlockManager.apply\u001b[1;34m(self, f, align_keys, ignore_failures, **kwargs)\u001b[0m\n\u001b[0;32m    300\u001b[0m \u001b[39mtry\u001b[39;00m:\n\u001b[0;32m    301\u001b[0m     \u001b[39mif\u001b[39;00m callable(f):\n\u001b[1;32m--> 302\u001b[0m         applied \u001b[39m=\u001b[39m b\u001b[39m.\u001b[39mapply(f, \u001b[39m*\u001b[39m\u001b[39m*\u001b[39mkwargs)\n\u001b[0;32m    303\u001b[0m     \u001b[39melse\u001b[39;00m:\n\u001b[0;32m    304\u001b[0m         applied \u001b[39m=\u001b[39m \u001b[39mgetattr\u001b[39m(b, f)(\u001b[39m*\u001b[39m\u001b[39m*\u001b[39mkwargs)\n",
      "File \u001b[1;32mc:\\Python310\\lib\\site-packages\\pandas\\core\\internals\\blocks.py:402\u001b[0m, in \u001b[0;36mBlock.apply\u001b[1;34m(self, func, **kwargs)\u001b[0m\n\u001b[0;32m    396\u001b[0m \u001b[39m@final\u001b[39m\n\u001b[0;32m    397\u001b[0m \u001b[39mdef\u001b[39;00m \u001b[39mapply\u001b[39m(\u001b[39mself\u001b[39m, func, \u001b[39m*\u001b[39m\u001b[39m*\u001b[39mkwargs) \u001b[39m-\u001b[39m\u001b[39m>\u001b[39m \u001b[39mlist\u001b[39m[Block]:\n\u001b[0;32m    398\u001b[0m     \u001b[39m\"\"\"\u001b[39;00m\n\u001b[0;32m    399\u001b[0m \u001b[39m    apply the function to my values; return a block if we are not\u001b[39;00m\n\u001b[0;32m    400\u001b[0m \u001b[39m    one\u001b[39;00m\n\u001b[0;32m    401\u001b[0m \u001b[39m    \"\"\"\u001b[39;00m\n\u001b[1;32m--> 402\u001b[0m     result \u001b[39m=\u001b[39m func(\u001b[39mself\u001b[39m\u001b[39m.\u001b[39mvalues, \u001b[39m*\u001b[39m\u001b[39m*\u001b[39mkwargs)\n\u001b[0;32m    404\u001b[0m     \u001b[39mreturn\u001b[39;00m \u001b[39mself\u001b[39m\u001b[39m.\u001b[39m_split_op_result(result)\n",
      "\u001b[1;31mTypeError\u001b[0m: bad operand type for abs(): 'str'"
     ]
    }
   ],
   "source": [
    "#To get the absolute value\n",
    "print(df.abs())"
   ]
  },
  {
   "cell_type": "code",
   "execution_count": null,
   "metadata": {},
   "outputs": [
    {
     "name": "stdout",
     "output_type": "stream",
     "text": [
      "Age       7.478738e+09\n",
      "Rating    7.810877e+03\n",
      "dtype: float64\n"
     ]
    },
    {
     "name": "stderr",
     "output_type": "stream",
     "text": [
      "C:\\Users\\pjaas\\AppData\\Local\\Temp\\ipykernel_4612\\558812242.py:2: FutureWarning: Dropping of nuisance columns in DataFrame reductions (with 'numeric_only=None') is deprecated; in a future version this will raise TypeError.  Select only valid columns before calling the reduction.\n",
      "  print(df.prod())\n"
     ]
    }
   ],
   "source": [
    "#To find the product of values\n",
    "print(df.prod())"
   ]
  },
  {
   "cell_type": "code",
   "execution_count": null,
   "metadata": {},
   "outputs": [
    {
     "name": "stdout",
     "output_type": "stream",
     "text": [
      "                             Name  Age  Rating\n",
      "0                             Tom   25    4.23\n",
      "1                        TomJames   51    7.47\n",
      "2                   TomJamesRicky   76   11.45\n",
      "3                TomJamesRickyVin   99   14.01\n",
      "4           TomJamesRickyVinSteve  129   17.21\n",
      "5      TomJamesRickyVinSteveSmith  158   21.81\n",
      "6  TomJamesRickyVinSteveSmithJack  181   25.61\n"
     ]
    }
   ],
   "source": [
    "# To get the cumulative sum\n",
    "print(df.cumsum())"
   ]
  },
  {
   "cell_type": "code",
   "execution_count": null,
   "metadata": {},
   "outputs": [
    {
     "ename": "TypeError",
     "evalue": "can't multiply sequence by non-int of type 'str'",
     "output_type": "error",
     "traceback": [
      "\u001b[1;31m---------------------------------------------------------------------------\u001b[0m",
      "\u001b[1;31mTypeError\u001b[0m                                 Traceback (most recent call last)",
      "File \u001b[1;32mc:\\Python310\\lib\\site-packages\\numpy\\core\\fromnumeric.py:57\u001b[0m, in \u001b[0;36m_wrapfunc\u001b[1;34m(obj, method, *args, **kwds)\u001b[0m\n\u001b[0;32m     56\u001b[0m \u001b[39mtry\u001b[39;00m:\n\u001b[1;32m---> 57\u001b[0m     \u001b[39mreturn\u001b[39;00m bound(\u001b[39m*\u001b[39margs, \u001b[39m*\u001b[39m\u001b[39m*\u001b[39mkwds)\n\u001b[0;32m     58\u001b[0m \u001b[39mexcept\u001b[39;00m \u001b[39mTypeError\u001b[39;00m:\n\u001b[0;32m     59\u001b[0m     \u001b[39m# A TypeError occurs if the object does have such a method in its\u001b[39;00m\n\u001b[0;32m     60\u001b[0m     \u001b[39m# class, but its signature is not identical to that of NumPy's. This\u001b[39;00m\n\u001b[1;32m   (...)\u001b[0m\n\u001b[0;32m     64\u001b[0m     \u001b[39m# Call _wrapit from within the except clause to ensure a potential\u001b[39;00m\n\u001b[0;32m     65\u001b[0m     \u001b[39m# exception has a traceback chain.\u001b[39;00m\n",
      "\u001b[1;31mTypeError\u001b[0m: can't multiply sequence by non-int of type 'str'",
      "\nDuring handling of the above exception, another exception occurred:\n",
      "\u001b[1;31mTypeError\u001b[0m                                 Traceback (most recent call last)",
      "\u001b[1;32mc:\\Users\\pjaas\\Documents\\GitHub\\The_Repository\\Sem5\\ML\\Dataframes.ipynb Cell 21\u001b[0m in \u001b[0;36m<cell line: 2>\u001b[1;34m()\u001b[0m\n\u001b[0;32m      <a href='vscode-notebook-cell:/c%3A/Users/pjaas/Documents/GitHub/The_Repository/Sem5/ML/Dataframes.ipynb#X30sZmlsZQ%3D%3D?line=0'>1</a>\u001b[0m \u001b[39m# To get the cumulative product\u001b[39;00m\n\u001b[1;32m----> <a href='vscode-notebook-cell:/c%3A/Users/pjaas/Documents/GitHub/The_Repository/Sem5/ML/Dataframes.ipynb#X30sZmlsZQ%3D%3D?line=1'>2</a>\u001b[0m \u001b[39mprint\u001b[39m(df\u001b[39m.\u001b[39;49mcumprod())\n",
      "File \u001b[1;32mc:\\Python310\\lib\\site-packages\\pandas\\core\\generic.py:11043\u001b[0m, in \u001b[0;36mNDFrame._add_numeric_operations.<locals>.cumprod\u001b[1;34m(self, axis, skipna, *args, **kwargs)\u001b[0m\n\u001b[0;32m  11033\u001b[0m \u001b[39m@doc\u001b[39m(\n\u001b[0;32m  11034\u001b[0m     _cnum_doc,\n\u001b[0;32m  11035\u001b[0m     desc\u001b[39m=\u001b[39m\u001b[39m\"\u001b[39m\u001b[39mproduct\u001b[39m\u001b[39m\"\u001b[39m,\n\u001b[1;32m   (...)\u001b[0m\n\u001b[0;32m  11041\u001b[0m )\n\u001b[0;32m  11042\u001b[0m \u001b[39mdef\u001b[39;00m \u001b[39mcumprod\u001b[39m(\u001b[39mself\u001b[39m, axis\u001b[39m=\u001b[39m\u001b[39mNone\u001b[39;00m, skipna\u001b[39m=\u001b[39m\u001b[39mTrue\u001b[39;00m, \u001b[39m*\u001b[39margs, \u001b[39m*\u001b[39m\u001b[39m*\u001b[39mkwargs):\n\u001b[1;32m> 11043\u001b[0m     \u001b[39mreturn\u001b[39;00m NDFrame\u001b[39m.\u001b[39mcumprod(\u001b[39mself\u001b[39m, axis, skipna, \u001b[39m*\u001b[39margs, \u001b[39m*\u001b[39m\u001b[39m*\u001b[39mkwargs)\n",
      "File \u001b[1;32mc:\\Python310\\lib\\site-packages\\pandas\\core\\generic.py:10522\u001b[0m, in \u001b[0;36mNDFrame.cumprod\u001b[1;34m(self, axis, skipna, *args, **kwargs)\u001b[0m\n\u001b[0;32m  10521\u001b[0m \u001b[39mdef\u001b[39;00m \u001b[39mcumprod\u001b[39m(\u001b[39mself\u001b[39m, axis: Axis \u001b[39m|\u001b[39m \u001b[39mNone\u001b[39;00m \u001b[39m=\u001b[39m \u001b[39mNone\u001b[39;00m, skipna: bool_t \u001b[39m=\u001b[39m \u001b[39mTrue\u001b[39;00m, \u001b[39m*\u001b[39margs, \u001b[39m*\u001b[39m\u001b[39m*\u001b[39mkwargs):\n\u001b[1;32m> 10522\u001b[0m     \u001b[39mreturn\u001b[39;00m \u001b[39mself\u001b[39m\u001b[39m.\u001b[39m_accum_func(\u001b[39m\"\u001b[39m\u001b[39mcumprod\u001b[39m\u001b[39m\"\u001b[39m, np\u001b[39m.\u001b[39mcumprod, axis, skipna, \u001b[39m*\u001b[39margs, \u001b[39m*\u001b[39m\u001b[39m*\u001b[39mkwargs)\n",
      "File \u001b[1;32mc:\\Python310\\lib\\site-packages\\pandas\\core\\generic.py:10504\u001b[0m, in \u001b[0;36mNDFrame._accum_func\u001b[1;34m(self, name, func, axis, skipna, *args, **kwargs)\u001b[0m\n\u001b[0;32m  10501\u001b[0m     result \u001b[39m=\u001b[39m result\u001b[39m.\u001b[39mT \u001b[39mif\u001b[39;00m \u001b[39mhasattr\u001b[39m(result, \u001b[39m\"\u001b[39m\u001b[39mT\u001b[39m\u001b[39m\"\u001b[39m) \u001b[39melse\u001b[39;00m result\n\u001b[0;32m  10502\u001b[0m     \u001b[39mreturn\u001b[39;00m result\n\u001b[1;32m> 10504\u001b[0m result \u001b[39m=\u001b[39m \u001b[39mself\u001b[39;49m\u001b[39m.\u001b[39;49m_mgr\u001b[39m.\u001b[39;49mapply(block_accum_func)\n\u001b[0;32m  10506\u001b[0m \u001b[39mreturn\u001b[39;00m \u001b[39mself\u001b[39m\u001b[39m.\u001b[39m_constructor(result)\u001b[39m.\u001b[39m__finalize__(\u001b[39mself\u001b[39m, method\u001b[39m=\u001b[39mname)\n",
      "File \u001b[1;32mc:\\Python310\\lib\\site-packages\\pandas\\core\\internals\\managers.py:302\u001b[0m, in \u001b[0;36mBaseBlockManager.apply\u001b[1;34m(self, f, align_keys, ignore_failures, **kwargs)\u001b[0m\n\u001b[0;32m    300\u001b[0m \u001b[39mtry\u001b[39;00m:\n\u001b[0;32m    301\u001b[0m     \u001b[39mif\u001b[39;00m callable(f):\n\u001b[1;32m--> 302\u001b[0m         applied \u001b[39m=\u001b[39m b\u001b[39m.\u001b[39mapply(f, \u001b[39m*\u001b[39m\u001b[39m*\u001b[39mkwargs)\n\u001b[0;32m    303\u001b[0m     \u001b[39melse\u001b[39;00m:\n\u001b[0;32m    304\u001b[0m         applied \u001b[39m=\u001b[39m \u001b[39mgetattr\u001b[39m(b, f)(\u001b[39m*\u001b[39m\u001b[39m*\u001b[39mkwargs)\n",
      "File \u001b[1;32mc:\\Python310\\lib\\site-packages\\pandas\\core\\internals\\blocks.py:402\u001b[0m, in \u001b[0;36mBlock.apply\u001b[1;34m(self, func, **kwargs)\u001b[0m\n\u001b[0;32m    396\u001b[0m \u001b[39m@final\u001b[39m\n\u001b[0;32m    397\u001b[0m \u001b[39mdef\u001b[39;00m \u001b[39mapply\u001b[39m(\u001b[39mself\u001b[39m, func, \u001b[39m*\u001b[39m\u001b[39m*\u001b[39mkwargs) \u001b[39m-\u001b[39m\u001b[39m>\u001b[39m \u001b[39mlist\u001b[39m[Block]:\n\u001b[0;32m    398\u001b[0m     \u001b[39m\"\"\"\u001b[39;00m\n\u001b[0;32m    399\u001b[0m \u001b[39m    apply the function to my values; return a block if we are not\u001b[39;00m\n\u001b[0;32m    400\u001b[0m \u001b[39m    one\u001b[39;00m\n\u001b[0;32m    401\u001b[0m \u001b[39m    \"\"\"\u001b[39;00m\n\u001b[1;32m--> 402\u001b[0m     result \u001b[39m=\u001b[39m func(\u001b[39mself\u001b[39m\u001b[39m.\u001b[39mvalues, \u001b[39m*\u001b[39m\u001b[39m*\u001b[39mkwargs)\n\u001b[0;32m    404\u001b[0m     \u001b[39mreturn\u001b[39;00m \u001b[39mself\u001b[39m\u001b[39m.\u001b[39m_split_op_result(result)\n",
      "File \u001b[1;32mc:\\Python310\\lib\\site-packages\\pandas\\core\\generic.py:10499\u001b[0m, in \u001b[0;36mNDFrame._accum_func.<locals>.block_accum_func\u001b[1;34m(blk_values)\u001b[0m\n\u001b[0;32m  10496\u001b[0m \u001b[39mdef\u001b[39;00m \u001b[39mblock_accum_func\u001b[39m(blk_values):\n\u001b[0;32m  10497\u001b[0m     values \u001b[39m=\u001b[39m blk_values\u001b[39m.\u001b[39mT \u001b[39mif\u001b[39;00m \u001b[39mhasattr\u001b[39m(blk_values, \u001b[39m\"\u001b[39m\u001b[39mT\u001b[39m\u001b[39m\"\u001b[39m) \u001b[39melse\u001b[39;00m blk_values\n\u001b[1;32m> 10499\u001b[0m     result \u001b[39m=\u001b[39m nanops\u001b[39m.\u001b[39;49mna_accum_func(values, func, skipna\u001b[39m=\u001b[39;49mskipna)\n\u001b[0;32m  10501\u001b[0m     result \u001b[39m=\u001b[39m result\u001b[39m.\u001b[39mT \u001b[39mif\u001b[39;00m \u001b[39mhasattr\u001b[39m(result, \u001b[39m\"\u001b[39m\u001b[39mT\u001b[39m\u001b[39m\"\u001b[39m) \u001b[39melse\u001b[39;00m result\n\u001b[0;32m  10502\u001b[0m     \u001b[39mreturn\u001b[39;00m result\n",
      "File \u001b[1;32mc:\\Python310\\lib\\site-packages\\pandas\\core\\nanops.py:1734\u001b[0m, in \u001b[0;36mna_accum_func\u001b[1;34m(values, accum_func, skipna)\u001b[0m\n\u001b[0;32m   1732\u001b[0m     mask \u001b[39m=\u001b[39m isna(vals)\n\u001b[0;32m   1733\u001b[0m     vals[mask] \u001b[39m=\u001b[39m mask_a\n\u001b[1;32m-> 1734\u001b[0m     result \u001b[39m=\u001b[39m accum_func(vals, axis\u001b[39m=\u001b[39;49m\u001b[39m0\u001b[39;49m)\n\u001b[0;32m   1735\u001b[0m     result[mask] \u001b[39m=\u001b[39m mask_b\n\u001b[0;32m   1736\u001b[0m \u001b[39melse\u001b[39;00m:\n",
      "File \u001b[1;32m<__array_function__ internals>:180\u001b[0m, in \u001b[0;36mcumprod\u001b[1;34m(*args, **kwargs)\u001b[0m\n",
      "File \u001b[1;32mc:\\Python310\\lib\\site-packages\\numpy\\core\\fromnumeric.py:3157\u001b[0m, in \u001b[0;36mcumprod\u001b[1;34m(a, axis, dtype, out)\u001b[0m\n\u001b[0;32m   3096\u001b[0m \u001b[39m@array_function_dispatch\u001b[39m(_cumprod_dispatcher)\n\u001b[0;32m   3097\u001b[0m \u001b[39mdef\u001b[39;00m \u001b[39mcumprod\u001b[39m(a, axis\u001b[39m=\u001b[39m\u001b[39mNone\u001b[39;00m, dtype\u001b[39m=\u001b[39m\u001b[39mNone\u001b[39;00m, out\u001b[39m=\u001b[39m\u001b[39mNone\u001b[39;00m):\n\u001b[0;32m   3098\u001b[0m     \u001b[39m\"\"\"\u001b[39;00m\n\u001b[0;32m   3099\u001b[0m \u001b[39m    Return the cumulative product of elements along a given axis.\u001b[39;00m\n\u001b[0;32m   3100\u001b[0m \n\u001b[1;32m   (...)\u001b[0m\n\u001b[0;32m   3155\u001b[0m \n\u001b[0;32m   3156\u001b[0m \u001b[39m    \"\"\"\u001b[39;00m\n\u001b[1;32m-> 3157\u001b[0m     \u001b[39mreturn\u001b[39;00m _wrapfunc(a, \u001b[39m'\u001b[39;49m\u001b[39mcumprod\u001b[39;49m\u001b[39m'\u001b[39;49m, axis\u001b[39m=\u001b[39;49maxis, dtype\u001b[39m=\u001b[39;49mdtype, out\u001b[39m=\u001b[39;49mout)\n",
      "File \u001b[1;32mc:\\Python310\\lib\\site-packages\\numpy\\core\\fromnumeric.py:66\u001b[0m, in \u001b[0;36m_wrapfunc\u001b[1;34m(obj, method, *args, **kwds)\u001b[0m\n\u001b[0;32m     57\u001b[0m     \u001b[39mreturn\u001b[39;00m bound(\u001b[39m*\u001b[39margs, \u001b[39m*\u001b[39m\u001b[39m*\u001b[39mkwds)\n\u001b[0;32m     58\u001b[0m \u001b[39mexcept\u001b[39;00m \u001b[39mTypeError\u001b[39;00m:\n\u001b[0;32m     59\u001b[0m     \u001b[39m# A TypeError occurs if the object does have such a method in its\u001b[39;00m\n\u001b[0;32m     60\u001b[0m     \u001b[39m# class, but its signature is not identical to that of NumPy's. This\u001b[39;00m\n\u001b[1;32m   (...)\u001b[0m\n\u001b[0;32m     64\u001b[0m     \u001b[39m# Call _wrapit from within the except clause to ensure a potential\u001b[39;00m\n\u001b[0;32m     65\u001b[0m     \u001b[39m# exception has a traceback chain.\u001b[39;00m\n\u001b[1;32m---> 66\u001b[0m     \u001b[39mreturn\u001b[39;00m _wrapit(obj, method, \u001b[39m*\u001b[39margs, \u001b[39m*\u001b[39m\u001b[39m*\u001b[39mkwds)\n",
      "File \u001b[1;32mc:\\Python310\\lib\\site-packages\\numpy\\core\\fromnumeric.py:43\u001b[0m, in \u001b[0;36m_wrapit\u001b[1;34m(obj, method, *args, **kwds)\u001b[0m\n\u001b[0;32m     41\u001b[0m \u001b[39mexcept\u001b[39;00m \u001b[39mAttributeError\u001b[39;00m:\n\u001b[0;32m     42\u001b[0m     wrap \u001b[39m=\u001b[39m \u001b[39mNone\u001b[39;00m\n\u001b[1;32m---> 43\u001b[0m result \u001b[39m=\u001b[39m \u001b[39mgetattr\u001b[39m(asarray(obj), method)(\u001b[39m*\u001b[39margs, \u001b[39m*\u001b[39m\u001b[39m*\u001b[39mkwds)\n\u001b[0;32m     44\u001b[0m \u001b[39mif\u001b[39;00m wrap:\n\u001b[0;32m     45\u001b[0m     \u001b[39mif\u001b[39;00m \u001b[39mnot\u001b[39;00m \u001b[39misinstance\u001b[39m(result, mu\u001b[39m.\u001b[39mndarray):\n",
      "\u001b[1;31mTypeError\u001b[0m: can't multiply sequence by non-int of type 'str'"
     ]
    }
   ],
   "source": [
    "# To get the cumulative product\n",
    "print(df.cumprod())"
   ]
  },
  {
   "cell_type": "code",
   "execution_count": null,
   "metadata": {},
   "outputs": [
    {
     "name": "stdout",
     "output_type": "stream",
     "text": [
      "    Name  Age  Rating\n",
      "0    Tom   25    4.23\n",
      "1  James   26    3.24\n",
      "2  Ricky   25    3.98\n",
      "3    Vin   23    2.56\n",
      "4  Steve   30    3.20\n",
      "5  Smith   29    4.60\n",
      "6   Jack   23    3.80\n"
     ]
    },
    {
     "data": {
      "text/html": [
       "<div>\n",
       "<style scoped>\n",
       "    .dataframe tbody tr th:only-of-type {\n",
       "        vertical-align: middle;\n",
       "    }\n",
       "\n",
       "    .dataframe tbody tr th {\n",
       "        vertical-align: top;\n",
       "    }\n",
       "\n",
       "    .dataframe thead th {\n",
       "        text-align: right;\n",
       "    }\n",
       "</style>\n",
       "<table border=\"1\" class=\"dataframe\">\n",
       "  <thead>\n",
       "    <tr style=\"text-align: right;\">\n",
       "      <th></th>\n",
       "      <th>Name</th>\n",
       "    </tr>\n",
       "  </thead>\n",
       "  <tbody>\n",
       "    <tr>\n",
       "      <th>count</th>\n",
       "      <td>7</td>\n",
       "    </tr>\n",
       "    <tr>\n",
       "      <th>unique</th>\n",
       "      <td>7</td>\n",
       "    </tr>\n",
       "    <tr>\n",
       "      <th>top</th>\n",
       "      <td>Tom</td>\n",
       "    </tr>\n",
       "    <tr>\n",
       "      <th>freq</th>\n",
       "      <td>1</td>\n",
       "    </tr>\n",
       "  </tbody>\n",
       "</table>\n",
       "</div>"
      ],
      "text/plain": [
       "       Name\n",
       "count     7\n",
       "unique    7\n",
       "top     Tom\n",
       "freq      1"
      ]
     },
     "execution_count": 11,
     "metadata": {},
     "output_type": "execute_result"
    }
   ],
   "source": [
    "# The describe() computes a summart of statistics to the DataFrame columns\n",
    "print(df)\n",
    "df.describe(include=['object'])"
   ]
  },
  {
   "cell_type": "code",
   "execution_count": null,
   "metadata": {},
   "outputs": [
    {
     "name": "stdout",
     "output_type": "stream",
     "text": [
      "       Name        Age    Rating\n",
      "count     7   7.000000  7.000000\n",
      "unique    7        NaN       NaN\n",
      "top     Tom        NaN       NaN\n",
      "freq      1        NaN       NaN\n",
      "mean    NaN  25.857143  3.658571\n",
      "std     NaN   2.734262  0.698628\n",
      "min     NaN  23.000000  2.560000\n",
      "25%     NaN  24.000000  3.220000\n",
      "50%     NaN  25.000000  3.800000\n",
      "75%     NaN  27.500000  4.105000\n",
      "max     NaN  30.000000  4.600000\n"
     ]
    }
   ],
   "source": [
    "print(df.describe(include='all'))"
   ]
  },
  {
   "cell_type": "markdown",
   "metadata": {},
   "source": [
    "**Reindexing**"
   ]
  },
  {
   "cell_type": "code",
   "execution_count": null,
   "metadata": {},
   "outputs": [
    {
     "name": "stdout",
     "output_type": "stream",
     "text": [
      "           A       C   B\n",
      "0 2022-01-01    High NaN\n",
      "2 2022-01-03     Low NaN\n",
      "5 2022-01-06  Medium NaN\n"
     ]
    }
   ],
   "source": [
    "from secrets import choice\n",
    "\n",
    "\n",
    "N=20\n",
    "af=pd.DataFrame({\n",
    "    'A': pd.date_range(start='2022-01-01',periods=N,freq='D'),\n",
    "    'x': np.linspace(0,stop=N-1,num=N),\n",
    "    'y': np.random.rand(N),\n",
    "    'C': np.random.choice(['Low','Medium','High'],N).tolist(),\n",
    "    'D': np.random.normal(100,10,size=(N)).tolist()\n",
    "})\n",
    "print(af.reindex(index=[0,2,5],columns=['A','C','B']))"
   ]
  },
  {
   "cell_type": "markdown",
   "metadata": {},
   "source": [
    "####  **Missing Data**"
   ]
  },
  {
   "cell_type": "code",
   "execution_count": 20,
   "metadata": {},
   "outputs": [
    {
     "name": "stdout",
     "output_type": "stream",
     "text": [
      "        one       two     three\n",
      "a  1.262260 -0.617007 -0.145910\n",
      "b       NaN       NaN       NaN\n",
      "c -0.163357  0.360445  0.994546\n",
      "d       NaN       NaN       NaN\n",
      "e -1.170551 -0.550024  0.966012\n",
      "f -1.354958  0.462930 -1.397192\n",
      "g       NaN       NaN       NaN\n",
      "h  0.657740  1.512663 -0.179155\n"
     ]
    }
   ],
   "source": [
    "df = pd.DataFrame(np.random.randn(5,3),index=['a','c','e','f','h'],columns=['one','two','three'])\n",
    "df = df.reindex(['a','b','c','d','e','f','g','h'])\n",
    "print(df)"
   ]
  },
  {
   "cell_type": "code",
   "execution_count": 22,
   "metadata": {},
   "outputs": [
    {
     "name": "stdout",
     "output_type": "stream",
     "text": [
      "a    False\n",
      "b     True\n",
      "c    False\n",
      "d     True\n",
      "e    False\n",
      "f    False\n",
      "g     True\n",
      "h    False\n",
      "Name: one, dtype: bool\n"
     ]
    }
   ],
   "source": [
    "#checking the missing values\n",
    "\n",
    "#example 1\n",
    "print(df['one'].isnull())"
   ]
  },
  {
   "cell_type": "code",
   "execution_count": 25,
   "metadata": {},
   "outputs": [
    {
     "name": "stdout",
     "output_type": "stream",
     "text": [
      "a     True\n",
      "b    False\n",
      "c     True\n",
      "d    False\n",
      "e     True\n",
      "f     True\n",
      "g    False\n",
      "h     True\n",
      "Name: one, dtype: bool\n"
     ]
    }
   ],
   "source": [
    "#example 2\n",
    "print(df['one'].notnull())"
   ]
  },
  {
   "cell_type": "markdown",
   "metadata": {},
   "source": [
    "#### Calculations with Missing Data"
   ]
  },
  {
   "cell_type": "code",
   "execution_count": 27,
   "metadata": {},
   "outputs": [
    {
     "name": "stdout",
     "output_type": "stream",
     "text": [
      "-0.7688657517860691\n"
     ]
    }
   ],
   "source": [
    "#Example 1\n",
    "print(df['one'].sum())"
   ]
  },
  {
   "cell_type": "code",
   "execution_count": 29,
   "metadata": {},
   "outputs": [
    {
     "name": "stdout",
     "output_type": "stream",
     "text": [
      "0\n"
     ]
    }
   ],
   "source": [
    "#Example 2\n",
    "df = pd.DataFrame(index=[0,1,2,3,4,5],columns=['one','two'])\n",
    "print(df['one'].sum())"
   ]
  },
  {
   "cell_type": "markdown",
   "metadata": {},
   "source": [
    "#### Cleaning / Filling Missing Data"
   ]
  },
  {
   "cell_type": "markdown",
   "metadata": {},
   "source": [
    "- Replacing Not a Number(NaN) with Scalar Value"
   ]
  },
  {
   "cell_type": "code",
   "execution_count": 31,
   "metadata": {},
   "outputs": [
    {
     "name": "stdout",
     "output_type": "stream",
     "text": [
      "        one       two     three\n",
      "a  0.238971 -0.599120 -0.274947\n",
      "b       NaN       NaN       NaN\n",
      "c  1.617307 -0.606825  0.094524\n",
      "NaN replaced with '0' : \n",
      "        one       two     three\n",
      "a  0.238971 -0.599120 -0.274947\n",
      "b  0.000000  0.000000  0.000000\n",
      "c  1.617307 -0.606825  0.094524\n"
     ]
    }
   ],
   "source": [
    "df = pd.DataFrame(np.random.randn(3,3),index=['a','c','e'],columns=['one','two','three'])\n",
    "df = df.reindex(['a','b','c'])\n",
    "print(df)\n",
    "print(\"NaN replaced with '0' : \")\n",
    "print(df.fillna(0))"
   ]
  },
  {
   "cell_type": "markdown",
   "metadata": {},
   "source": [
    "- Fill NA Forward and Backward"
   ]
  },
  {
   "cell_type": "code",
   "execution_count": 33,
   "metadata": {},
   "outputs": [
    {
     "name": "stdout",
     "output_type": "stream",
     "text": [
      "        one       two     three\n",
      "a  0.247819  1.016380 -0.183345\n",
      "b  0.247819  1.016380 -0.183345\n",
      "c  1.106517  0.087720 -1.404993\n",
      "d  1.106517  0.087720 -1.404993\n",
      "e  1.276699 -0.752140 -0.075154\n",
      "f  0.608611  1.923194  1.058028\n",
      "g  0.608611  1.923194  1.058028\n",
      "h -0.083185 -1.186909  1.318727\n"
     ]
    }
   ],
   "source": [
    "df = pd.DataFrame(np.random.randn(5,3),index=['a','c','e','f','h'],columns=['one','two','three'])\n",
    "df = df.reindex(['a','b','c','d','e','f','g','h'])\n",
    "\n",
    "#Pad/fill\n",
    "print(df.fillna(method='pad'))"
   ]
  },
  {
   "cell_type": "code",
   "execution_count": 35,
   "metadata": {},
   "outputs": [
    {
     "name": "stdout",
     "output_type": "stream",
     "text": [
      "        one       two     three\n",
      "a  0.247819  1.016380 -0.183345\n",
      "b  1.106517  0.087720 -1.404993\n",
      "c  1.106517  0.087720 -1.404993\n",
      "d  1.276699 -0.752140 -0.075154\n",
      "e  1.276699 -0.752140 -0.075154\n",
      "f  0.608611  1.923194  1.058028\n",
      "g -0.083185 -1.186909  1.318727\n",
      "h -0.083185 -1.186909  1.318727\n"
     ]
    }
   ],
   "source": [
    "#bfill/backfill\n",
    "\n",
    "print(df.fillna(method='backfill'))"
   ]
  },
  {
   "cell_type": "markdown",
   "metadata": {},
   "source": [
    "- Drop Missing Values\n",
    " to simply exclude the missing values we use dropna()"
   ]
  },
  {
   "cell_type": "code",
   "execution_count": 36,
   "metadata": {},
   "outputs": [
    {
     "name": "stdout",
     "output_type": "stream",
     "text": [
      "        one       two     three\n",
      "a  0.247819  1.016380 -0.183345\n",
      "c  1.106517  0.087720 -1.404993\n",
      "e  1.276699 -0.752140 -0.075154\n",
      "f  0.608611  1.923194  1.058028\n",
      "h -0.083185 -1.186909  1.318727\n"
     ]
    }
   ],
   "source": [
    "#Example 1\n",
    "print(df.dropna())"
   ]
  },
  {
   "cell_type": "code",
   "execution_count": 37,
   "metadata": {},
   "outputs": [
    {
     "name": "stdout",
     "output_type": "stream",
     "text": [
      "Empty DataFrame\n",
      "Columns: []\n",
      "Index: [a, b, c, d, e, f, g, h]\n"
     ]
    }
   ],
   "source": [
    "#Example 2\n",
    "print(df.dropna(axis=1))"
   ]
  },
  {
   "cell_type": "markdown",
   "metadata": {},
   "source": [
    "#### Replace Missing (or) Generic Values\n",
    "\n",
    "Many times, we have to replace a generic value with some specific value. We can achieve this by applying the replace method."
   ]
  },
  {
   "cell_type": "code",
   "execution_count": 41,
   "metadata": {},
   "outputs": [
    {
     "name": "stdout",
     "output_type": "stream",
     "text": [
      "   one  two\n",
      "0   10   10\n",
      "1   20    0\n",
      "2   30   30\n",
      "3   40   40\n",
      "4   50   50\n",
      "5   60   60\n"
     ]
    }
   ],
   "source": [
    "df = pd.DataFrame({'one':[10,20,30,40,50,2000],'two':[1000,0,30,40,50,60]})\n",
    "print(df.replace({1000:10,2000:60}))"
   ]
  },
  {
   "cell_type": "markdown",
   "metadata": {},
   "source": [
    "#### **Python Pandas - IO Tools**"
   ]
  },
  {
   "cell_type": "code",
   "execution_count": 48,
   "metadata": {},
   "outputs": [
    {
     "name": "stdout",
     "output_type": "stream",
     "text": [
      "   S.No    Name  Age       City  Salary\n",
      "0     1     Tom   28    Toronto   20000\n",
      "1     2     Lee   32   HongKong    3000\n",
      "2     3  Steven   43   Bay Area    8300\n",
      "3     4     Ram   38  Hyderabad    3900\n"
     ]
    }
   ],
   "source": [
    "# readcsv() reads data from csv file and creates DataFrame Object\n",
    "\n",
    "df = pd.read_csv(\"temp.csv\")\n",
    "print(df)"
   ]
  },
  {
   "cell_type": "code",
   "execution_count": 51,
   "metadata": {},
   "outputs": [
    {
     "name": "stdout",
     "output_type": "stream",
     "text": [
      "        Name  Age       City  Salary\n",
      "S.No                                \n",
      "1        Tom   28    Toronto   20000\n",
      "2        Lee   32   HongKong    3000\n",
      "3     Steven   43   Bay Area    8300\n",
      "4        Ram   38  Hyderabad    3900\n"
     ]
    }
   ],
   "source": [
    "# index_col specifies a column in the csv file to customize the index\n",
    "\n",
    "df=pd.read_csv(\"temp.csv\",index_col=['S.No'])\n",
    "print(df)"
   ]
  },
  {
   "cell_type": "code",
   "execution_count": 52,
   "metadata": {},
   "outputs": [
    {
     "name": "stdout",
     "output_type": "stream",
     "text": [
      "S.No        int64\n",
      "Name       object\n",
      "Age         int64\n",
      "City       object\n",
      "Salary    float64\n",
      "dtype: object\n"
     ]
    }
   ],
   "source": [
    "# dtype is used to find the data type and is passed as a dictionary\n",
    "\n",
    "df = pd.read_csv(\"temp.csv\", dtype={'Salary': np.float64})\n",
    "print(df.dtypes)"
   ]
  },
  {
   "cell_type": "code",
   "execution_count": null,
   "metadata": {},
   "outputs": [],
   "source": []
  }
 ],
 "metadata": {
  "kernelspec": {
   "display_name": "Python 3.10.1 64-bit",
   "language": "python",
   "name": "python3"
  },
  "language_info": {
   "codemirror_mode": {
    "name": "ipython",
    "version": 3
   },
   "file_extension": ".py",
   "mimetype": "text/x-python",
   "name": "python",
   "nbconvert_exporter": "python",
   "pygments_lexer": "ipython3",
   "version": "3.10.1"
  },
  "orig_nbformat": 4,
  "vscode": {
   "interpreter": {
    "hash": "369f2c481f4da34e4445cda3fffd2e751bd1c4d706f27375911949ba6bb62e1c"
   }
  }
 },
 "nbformat": 4,
 "nbformat_minor": 2
}
