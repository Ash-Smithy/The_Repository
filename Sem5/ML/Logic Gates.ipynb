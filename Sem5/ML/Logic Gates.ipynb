{
 "cells": [
  {
   "cell_type": "markdown",
   "metadata": {},
   "source": []
  },
  {
   "cell_type": "code",
   "execution_count": null,
   "metadata": {},
   "outputs": [],
   "source": [
    "from sklearn.metrics import confusion_matrix,accuracy_score,classification_report\n",
    "\n",
    "actual = [1,1,0,1,0,0,1,0,0,0]\n",
    "predicted = [1,0,0,1,0,0,1,1,1,0]\n",
    "print('Confusion matrix')\n",
    "results = confusion_matrix(actual,predicted)\n",
    "print(results)\n",
    "print(\"Accuracy score: \",accuracy_score(actual,predicted))\n",
    "print(\"Report\")\n",
    "print(classification_report(actual,predicted))"
   ]
  },
  {
   "cell_type": "code",
   "execution_count": 11,
   "metadata": {},
   "outputs": [
    {
     "name": "stdout",
     "output_type": "stream",
     "text": [
      "OR(1,1)=1\n",
      "OR(1,0)=1\n",
      "OR(0,1)=1\n",
      "OR(0,0)=0\n"
     ]
    }
   ],
   "source": [
    "#Perceptron for OR gate\n",
    "import numpy as np\n",
    "def OR_percep(x):\n",
    "    w=np.array([1,1])\n",
    "    b=-0.5\n",
    "    return perceptron(x,w,b)\n",
    "def unit_step(v):\n",
    "    if (v>0):\n",
    "        return 1\n",
    "    else:\n",
    "        return 0\n",
    "def perceptron(x,w,b):\n",
    "    v=np.dot(w,x)+b\n",
    "    y=unit_step(v)\n",
    "    return y\n",
    "print(\"OR({},{})={}\".format(1,1,OR_percep(np.array([1,1]))))\n",
    "print(\"OR({},{})={}\".format(1,0,OR_percep(np.array([1,0]))))\n",
    "print(\"OR({},{})={}\".format(0,1,OR_percep(np.array([0,1]))))\n",
    "print(\"OR({},{})={}\".format(0,0,OR_percep(np.array([0,0]))))"
   ]
  },
  {
   "cell_type": "code",
   "execution_count": 12,
   "metadata": {},
   "outputs": [
    {
     "name": "stdout",
     "output_type": "stream",
     "text": [
      "AND(1,1)=1\n",
      "AND(1,0)=0\n",
      "AND(0,1)=0\n",
      "AND(0,0)=0\n"
     ]
    }
   ],
   "source": [
    "#Perceptron for OR gate\n",
    "import numpy as np\n",
    "def AND_percep(x):\n",
    "    w=np.array([1,1])\n",
    "    b=-1.5\n",
    "    return perceptron(x,w,b)\n",
    "def unit_step(v):\n",
    "    if (v>0):\n",
    "        return 1\n",
    "    else:\n",
    "        return 0\n",
    "def perceptron(x,w,b):\n",
    "    v=np.dot(w,x)+b\n",
    "    y=unit_step(v)\n",
    "    return y\n",
    "print(\"AND({},{})={}\".format(1,1,AND_percep(np.array([1,1]))))\n",
    "print(\"AND({},{})={}\".format(1,0,AND_percep(np.array([1,0]))))\n",
    "print(\"AND({},{})={}\".format(0,1,AND_percep(np.array([0,1]))))\n",
    "print(\"AND({},{})={}\".format(0,0,AND_percep(np.array([0,0]))))"
   ]
  },
  {
   "cell_type": "code",
   "execution_count": 15,
   "metadata": {},
   "outputs": [
    {
     "name": "stdout",
     "output_type": "stream",
     "text": [
      "NOT(0)=1\n",
      "NOT(1)=0\n"
     ]
    }
   ],
   "source": [
    "#Perceptron for AND gate\n",
    "#Perceptron for OR gate\n",
    "import numpy as np\n",
    "def NOT_percep(x):\n",
    "    w=-1\n",
    "    b=0.5\n",
    "    return perceptron(x,w,b)\n",
    "def unit_step(v):\n",
    "    if (v>0):\n",
    "        return 1\n",
    "    else:\n",
    "        return 0\n",
    "def perceptron(x,w,b):\n",
    "    v=np.dot(w,x)+b\n",
    "    y=unit_step(v)\n",
    "    return y\n",
    "print(\"NOT(0)={}\".format(NOT_percep(0)))\n",
    "print(\"NOT(1)={}\".format(NOT_percep(1)))\n"
   ]
  }
 ],
 "metadata": {
  "kernelspec": {
   "display_name": "Python 3.10.1 64-bit",
   "language": "python",
   "name": "python3"
  },
  "language_info": {
   "codemirror_mode": {
    "name": "ipython",
    "version": 3
   },
   "file_extension": ".py",
   "mimetype": "text/x-python",
   "name": "python",
   "nbconvert_exporter": "python",
   "pygments_lexer": "ipython3",
   "version": "3.10.1"
  },
  "orig_nbformat": 4,
  "vscode": {
   "interpreter": {
    "hash": "369f2c481f4da34e4445cda3fffd2e751bd1c4d706f27375911949ba6bb62e1c"
   }
  }
 },
 "nbformat": 4,
 "nbformat_minor": 2
}
