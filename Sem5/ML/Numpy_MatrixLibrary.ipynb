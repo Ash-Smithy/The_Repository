{
 "cells": [
  {
   "cell_type": "markdown",
   "metadata": {},
   "source": [
    "20-07-2022 \n",
    "Matrix Library & Operations\n",
    "\n",
    "The Numpy module consists of a matrix library. The numpy.matlib() is used in NumPy for matrix functions. These functions return matrix values as output. It uses the arrat elements as input."
   ]
  },
  {
   "cell_type": "markdown",
   "metadata": {},
   "source": []
  },
  {
   "cell_type": "code",
   "execution_count": 3,
   "metadata": {},
   "outputs": [
    {
     "name": "stdout",
     "output_type": "stream",
     "text": [
      "[[6.23042070e-307 3.56043053e-307 1.37961641e-306]\n",
      " [8.90071135e-308 8.01097889e-307 1.78020169e-306]\n",
      " [7.56601165e-307 1.02359984e-306 1.33510679e-306]\n",
      " [2.22522597e-306 6.23053614e-307 1.33511562e-306]\n",
      " [6.89805151e-307 2.56765117e-312 2.56765117e-312]]\n"
     ]
    }
   ],
   "source": [
    "import numpy as np\n",
    "import numpy.matlib\n",
    "\n",
    "\n",
    "#np.matlib.empty() returns a new matrix in which the entries are uninitialized. \n",
    "print(np.matlib.empty((5,3)))"
   ]
  },
  {
   "cell_type": "code",
   "execution_count": 6,
   "metadata": {},
   "outputs": [
    {
     "name": "stdout",
     "output_type": "stream",
     "text": [
      "[[0. 0. 0. 0. 0.]]\n"
     ]
    }
   ],
   "source": [
    "#np.matlib.zeros() we use this function to initialize a new matrix. All the matrix elements are set to be zero\n",
    "print(np.matlib.zeros(5))"
   ]
  },
  {
   "cell_type": "code",
   "execution_count": 10,
   "metadata": {},
   "outputs": [
    {
     "name": "stdout",
     "output_type": "stream",
     "text": [
      "[[1. 1. 1. 1. 1.]\n",
      " [1. 1. 1. 1. 1.]\n",
      " [1. 1. 1. 1. 1.]\n",
      " [1. 1. 1. 1. 1.]]\n"
     ]
    }
   ],
   "source": [
    "#np.matlib.ones()\n",
    "print(np.matlib.ones((4,5)))"
   ]
  },
  {
   "cell_type": "code",
   "execution_count": 47,
   "metadata": {},
   "outputs": [
    {
     "name": "stdout",
     "output_type": "stream",
     "text": [
      "[[1. 0. 0.]\n",
      " [0. 1. 0.]\n",
      " [0. 0. 1.]]\n"
     ]
    }
   ],
   "source": [
    "#np.numpy.eye() is used to initialize a matrix with 1 as the diagonal elements and 0 otherwise.\n",
    "# mtlb.eye(n,m,k,dtype)\n",
    "#n - represents the number of rows\n",
    "#m - represents the number of columns\n",
    "#k - denotes the index of the diagonal\n",
    "#dtype - defines the datatype of the output matrix \n",
    "\n",
    "print(np.matlib.eye(3))"
   ]
  },
  {
   "cell_type": "code",
   "execution_count": 37,
   "metadata": {},
   "outputs": [
    {
     "name": "stdout",
     "output_type": "stream",
     "text": [
      "[[0.01781842 0.91485407 0.23787241 0.05527442 0.84583652]]\n"
     ]
    }
   ],
   "source": [
    "# np.matlib.rand() is used to initialize a matrix filled with random values . The size of the matrix is given as input.\n",
    "print(np.matlib.rand(5))"
   ]
  },
  {
   "cell_type": "code",
   "execution_count": 15,
   "metadata": {},
   "outputs": [
    {
     "data": {
      "text/plain": [
       "array([[2, 2, 2, 2],\n",
       "       [2, 2, 2, 2],\n",
       "       [2, 2, 2, 2]])"
      ]
     },
     "execution_count": 15,
     "metadata": {},
     "output_type": "execute_result"
    }
   ],
   "source": [
    "#np.matlib.repmat(array,m,n) We take three arguments. The first one defines the array and the other two the axes\n",
    "np.matlib.repmat(2,3,4)"
   ]
  },
  {
   "cell_type": "code",
   "execution_count": 36,
   "metadata": {},
   "outputs": [
    {
     "name": "stdout",
     "output_type": "stream",
     "text": [
      "[[ 1.31476034 -1.07268541  1.57241123 -0.30279553  1.63455232]]\n"
     ]
    }
   ],
   "source": [
    "#np.matlib.randn() dwith the use of this function(), we can generate an array having random values from a standard normal distribution. We can specify the numner of elements as a parameter.\n",
    "print(np.matlib.randn(5))"
   ]
  },
  {
   "cell_type": "code",
   "execution_count": 33,
   "metadata": {},
   "outputs": [
    {
     "name": "stdout",
     "output_type": "stream",
     "text": [
      "122\n"
     ]
    }
   ],
   "source": [
    "#np.matlib.matmul()\n",
    "#The matrix multiplication function gives the multiplication of two matrices of same sahpe. If the shape is not the same, then it gives an Error\n",
    "\n",
    "a=np.array([4,5,6])\n",
    "b=np.array([7,8,9])\n",
    "print(np.matmul(a,b))"
   ]
  },
  {
   "cell_type": "markdown",
   "metadata": {},
   "source": [
    "Array Broadcasting\n",
    "\n",
    "This matlib library is very useful for working with NumPy matrix. It takes the ndarray object as unpuy and returns the appropriate matrix.\n",
    "These functions have additional functionality due to its input parameters. We can define the size, data type, shape and order of the resultant matrices.\n",
    "\n",
    "The term broadcasting refers to the ability of Numpy to treat arrays of different shapes during arithmetic operations. Arithmetic operations on arrays are usuallly done one corresponding elements. If two arrays are of exact same shape, then these operations are smoothly performed."
   ]
  },
  {
   "cell_type": "code",
   "execution_count": 35,
   "metadata": {},
   "outputs": [
    {
     "name": "stdout",
     "output_type": "stream",
     "text": [
      "[ 5 12 21 32]\n"
     ]
    }
   ],
   "source": [
    "#Example\n",
    "a=np.array([1,2,3,4])\n",
    "b=np.array([5,6,7,8])\n",
    "c=a*b\n",
    "print(c)"
   ]
  },
  {
   "cell_type": "markdown",
   "metadata": {},
   "source": [
    "If the two dimensions ot the arrays are dissimilar, element-to-element operations are not possible. However, operations on arrays of non-similar shapes is still possible in NumPy, because of the broadcasting\n",
    "capability. The smaller array is broadcast to the size of the larger array so that they have compatable shapes."
   ]
  }
 ],
 "metadata": {
  "kernelspec": {
   "display_name": "Python 3.10.1 64-bit",
   "language": "python",
   "name": "python3"
  },
  "language_info": {
   "codemirror_mode": {
    "name": "ipython",
    "version": 3
   },
   "file_extension": ".py",
   "mimetype": "text/x-python",
   "name": "python",
   "nbconvert_exporter": "python",
   "pygments_lexer": "ipython3",
   "version": "3.10.1"
  },
  "orig_nbformat": 4,
  "vscode": {
   "interpreter": {
    "hash": "369f2c481f4da34e4445cda3fffd2e751bd1c4d706f27375911949ba6bb62e1c"
   }
  }
 },
 "nbformat": 4,
 "nbformat_minor": 2
}
