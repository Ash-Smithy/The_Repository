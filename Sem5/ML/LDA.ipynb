{
 "cells": [
  {
   "cell_type": "code",
   "execution_count": 1,
   "metadata": {},
   "outputs": [
    {
     "name": "stdout",
     "output_type": "stream",
     "text": [
      "['Versicolor' 'Setosa' 'Versicolor' 'Setosa' 'Virginica' 'Versicolor'\n",
      " 'Setosa' 'Setosa' 'Setosa' 'Virginica' 'Versicolor' 'Versicolor'\n",
      " 'Versicolor' 'Setosa' 'Versicolor' 'Setosa' 'Setosa' 'Setosa' 'Virginica'\n",
      " 'Virginica' 'Versicolor' 'Versicolor' 'Virginica' 'Virginica' 'Setosa'\n",
      " 'Versicolor' 'Versicolor' 'Virginica' 'Versicolor' 'Setosa' 'Versicolor'\n",
      " 'Setosa' 'Versicolor' 'Versicolor' 'Setosa' 'Virginica' 'Setosa'\n",
      " 'Virginica' 'Setosa' 'Setosa' 'Virginica' 'Versicolor' 'Versicolor'\n",
      " 'Virginica' 'Virginica'] \n",
      "\n",
      "              precision    recall  f1-score   support\n",
      "\n",
      "      Setosa       1.00      1.00      1.00        16\n",
      "  Versicolor       0.94      1.00      0.97        16\n",
      "   Virginica       1.00      0.92      0.96        13\n",
      "\n",
      "    accuracy                           0.98        45\n",
      "   macro avg       0.98      0.97      0.98        45\n",
      "weighted avg       0.98      0.98      0.98        45\n",
      "\n",
      "[[16  0  0]\n",
      " [ 0 16  0]\n",
      " [ 0  1 12]]\n"
     ]
    }
   ],
   "source": [
    "import pandas as pd\n",
    "import matplotlib.pyplot as plt\n",
    "from sklearn.model_selection import train_test_split\n",
    "\n",
    "data = pd.read_csv('iris.csv')\n",
    "x = data.drop('variety',axis=1)\n",
    "y = data['variety']\n",
    "xtrain,xtest,ytrain,ytest=train_test_split(x,y,test_size=0.3)\n",
    "from sklearn.preprocessing import StandardScaler\n",
    "sc = StandardScaler()\n",
    "xtest = sc.fit_transform(xtest)\n",
    "xtrain = sc.transform(xtrain)\n",
    "from sklearn.discriminant_analysis import LinearDiscriminantAnalysis\n",
    "clf = LinearDiscriminantAnalysis()\n",
    "clf.fit(xtrain,ytrain)\n",
    "ypred = clf.predict(xtest)\n",
    "print(ypred,\"\\n\")\n",
    "from sklearn.metrics import classification_report,confusion_matrix\n",
    "cfr = classification_report(ytest,ypred)\n",
    "print (cfr)\n",
    "cfm = confusion_matrix(ytest,ypred)\n",
    "print(cfm)"
   ]
  }
 ],
 "metadata": {
  "kernelspec": {
   "display_name": "Python 3.10.6 64-bit",
   "language": "python",
   "name": "python3"
  },
  "language_info": {
   "codemirror_mode": {
    "name": "ipython",
    "version": 3
   },
   "file_extension": ".py",
   "mimetype": "text/x-python",
   "name": "python",
   "nbconvert_exporter": "python",
   "pygments_lexer": "ipython3",
   "version": "3.10.6"
  },
  "orig_nbformat": 4,
  "vscode": {
   "interpreter": {
    "hash": "2d08b39f4dbef70f0d8175b93e3eb1909708a293dfc021300289f58bfc754009"
   }
  }
 },
 "nbformat": 4,
 "nbformat_minor": 2
}
