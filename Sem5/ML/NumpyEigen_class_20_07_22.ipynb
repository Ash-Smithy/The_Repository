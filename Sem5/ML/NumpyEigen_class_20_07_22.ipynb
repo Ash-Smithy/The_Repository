{
 "cells": [
  {
   "cell_type": "code",
   "execution_count": 5,
   "metadata": {},
   "outputs": [
    {
     "name": "stdout",
     "output_type": "stream",
     "text": [
      "[-6.05798024  4.4666812   0.59129904]\n",
      "[[ 0.44047381 -0.66326042  0.49735565]\n",
      " [-0.27023519 -0.67962995 -0.75158903]\n",
      " [-0.85612836 -0.31335084  0.43330277]]\n"
     ]
    }
   ],
   "source": [
    "import numpy as np\n",
    "\n",
    "#This function computs complex conjugate or real symmetric matrices. The function returens two objects for eigenvalues and eigenvectors reespectively\n",
    "# The Outputconsists og:\n",
    "# A 1-D array object containing og eigenvalues\n",
    "# A 2-D square matrix containing eigenvectors for each column \n",
    "\n",
    "#Function to calculate Eigen values and vector\n",
    "a=np.array([[1,2,3],[3,2,-1],[4,0,-4]])\n",
    "val,vect=np.linalg.eig(a)\n",
    "print(val)\n",
    "print(vect)"
   ]
  },
  {
   "cell_type": "code",
   "execution_count": 3,
   "metadata": {},
   "outputs": [
    {
     "data": {
      "text/plain": [
       "array([ 0.        ,  3.33333333,  6.66666667, 10.        ])"
      ]
     },
     "execution_count": 3,
     "metadata": {},
     "output_type": "execute_result"
    }
   ],
   "source": [
    "#The linspace() outputs an equally spaced array. We use it for array generation \n",
    "np.linspace(0,10,num=4)"
   ]
  },
  {
   "cell_type": "code",
   "execution_count": 6,
   "metadata": {},
   "outputs": [
    {
     "data": {
      "text/plain": [
       "array([1.00000000e+00, 2.15443469e+03, 4.64158883e+06, 1.00000000e+10])"
      ]
     },
     "execution_count": 6,
     "metadata": {},
     "output_type": "execute_result"
    }
   ],
   "source": [
    "#The np.logspace() return numbers spaced evenly on a log scale. We use it for array generation.\n",
    "np.logspace(0,10,num=4)"
   ]
  },
  {
   "cell_type": "code",
   "execution_count": 10,
   "metadata": {},
   "outputs": [
    {
     "name": "stdout",
     "output_type": "stream",
     "text": [
      "[ 0  1  2  3  4  5  6  7  8  9 10 11 12 13 14 15 16 17 18 19]\n"
     ]
    }
   ],
   "source": [
    "#For 1-D arrays the most common function is np.arange(..), passing any value create an array from 0 to that number\n",
    "print(np.arange(20))"
   ]
  },
  {
   "cell_type": "code",
   "execution_count": 9,
   "metadata": {},
   "outputs": [
    {
     "data": {
      "text/plain": [
       "array([1, 2, 3, 4])"
      ]
     },
     "execution_count": 9,
     "metadata": {},
     "output_type": "execute_result"
    }
   ],
   "source": [
    "#The np.asarray() is to convert an input to array. It is helpful in array creation.\n",
    "np.asarray([1,2,3,4])"
   ]
  }
 ],
 "metadata": {
  "kernelspec": {
   "display_name": "Python 3.10.1 64-bit",
   "language": "python",
   "name": "python3"
  },
  "language_info": {
   "codemirror_mode": {
    "name": "ipython",
    "version": 3
   },
   "file_extension": ".py",
   "mimetype": "text/x-python",
   "name": "python",
   "nbconvert_exporter": "python",
   "pygments_lexer": "ipython3",
   "version": "3.10.1"
  },
  "orig_nbformat": 4,
  "vscode": {
   "interpreter": {
    "hash": "369f2c481f4da34e4445cda3fffd2e751bd1c4d706f27375911949ba6bb62e1c"
   }
  }
 },
 "nbformat": 4,
 "nbformat_minor": 2
}
