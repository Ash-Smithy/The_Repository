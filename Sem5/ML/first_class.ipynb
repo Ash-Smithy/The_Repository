{
 "cells": [
  {
   "cell_type": "code",
   "execution_count": 2,
   "metadata": {},
   "outputs": [
    {
     "name": "stdout",
     "output_type": "stream",
     "text": [
      "[10 20 30 40 50]\n"
     ]
    }
   ],
   "source": [
    "import numpy as np\n",
    "arr=np.array([10,20,30,40,50],dtype=int)\n",
    "print (arr)"
   ]
  },
  {
   "cell_type": "code",
   "execution_count": 4,
   "metadata": {},
   "outputs": [
    {
     "name": "stdout",
     "output_type": "stream",
     "text": [
      "[ 0.  4.  8. 12. 16. 20.]\n",
      "[   10.            56.23413252   316.22776602  1778.27941004\n",
      " 10000.        ]\n",
      "[5 6 7 8 9]\n",
      "[0 0 0 0 0]\n",
      "[1 1 1 1 1]\n"
     ]
    }
   ],
   "source": [
    "#There are several ways in which arrays in numpy can be created\n",
    "\n",
    "# 1. Using linspace()\n",
    "#Syntax: linspace(start,stop,n)\n",
    "\n",
    "arr=np.linspace(0,20,6)\n",
    "print(arr)\n",
    "\n",
    "# 2. Using logspace()\n",
    "#Syntax: logspace(start,stop,n)\n",
    "\n",
    "arr=np.logspace(1,4,5) #This function represents values starting from 10^1 to 10^4\n",
    "print(arr) \n",
    "#3. Using arange()\n",
    "# Syntax: arange(start,stop,stepsize)\n",
    "arr2=np.arange(5,10)\n",
    "print(arr2)\n",
    "\n",
    "#4. Using zeros() and ones()\n",
    "#Syntax: zeros(n,datatype)\n",
    "#Syntax: ones(n,datatype)\n",
    "zarr=np.zeros(5,int)\n",
    "narr=np.ones(5,int)\n",
    "print(zarr)\n",
    "print(narr)"
   ]
  },
  {
   "cell_type": "code",
   "execution_count": 10,
   "metadata": {},
   "outputs": [
    {
     "name": "stdout",
     "output_type": "stream",
     "text": [
      "After adding 5:  [ 15  25  35  10 -35]\n",
      "After Subtracting 5:  [  5  15  25   0 -45]\n",
      "After Multiplying 5:  [  50  100  150   25 -200]\n",
      "After Dividing with 5:  [ 2.  4.  6.  1. -8.]\n",
      "After Modular Division with 5:  [0 0 0 0 0]\n",
      "Expression values:  [ 215  615 1215   90 1215]\n",
      "Sin values [0.00000000e+00 1.00000000e+00 8.66025404e-01 7.07106781e-01\n",
      " 5.00000000e-01 1.22464680e-16]\n",
      "Cos values [ 1.00000000e+00  6.12323400e-17  5.00000000e-01  7.07106781e-01\n",
      "  8.66025404e-01 -1.00000000e+00]\n",
      "Tan values [ 0.00000000e+00  1.63312394e+16  1.73205081e+00  1.00000000e+00\n",
      "  5.77350269e-01 -1.22464680e-16]\n",
      "Biggest Value:  30\n",
      "Minimum Value:  -40\n",
      "Sum of all elements:  25\n",
      "Sorting the array:  [-40   5  10  20  30]\n",
      "Mean:  5.0\n",
      "Median:  10.0\n",
      "Square root:  [3.16227766 4.47213595 5.47722558 2.23606798        nan]\n",
      "-1200000\n",
      "24.08318915758459\n",
      "580.0\n",
      "725.0\n"
     ]
    },
    {
     "name": "stderr",
     "output_type": "stream",
     "text": [
      "C:\\Users\\pjaas\\AppData\\Local\\Temp\\ipykernel_8752\\1371052403.py:25: RuntimeWarning: invalid value encountered in sqrt\n",
      "  print(\"Square root: \",np.sqrt(arr))\n"
     ]
    }
   ],
   "source": [
    "import numpy as np\n",
    "import math\n",
    "#Performing arithmetic operations with arrays\n",
    "arr=np.array([10,20,30,5,-40])\n",
    "print(\"After adding 5: \",arr+5)\n",
    "print(\"After Subtracting 5: \",arr-5)\n",
    "print(\"After Multiplying 5: \",arr*5)\n",
    "print(\"After Dividing with 5: \",arr/5)\n",
    "print(\"After Modular Division with 5: \",arr%5)\n",
    "\n",
    "#Performing expression in arrays\n",
    "print(\"Expression values: \",(arr+5)**2-10)\n",
    "\n",
    "#some math functions\n",
    "values=np.array([0,math.pi/2,math.pi/3,math.pi/4,math.pi/6,np.pi])\n",
    "print(\"Sin values\",np.sin(values))\n",
    "print(\"Cos values\",np.cos(values))\n",
    "print(\"Tan values\",np.tan(values))\n",
    "print(\"Biggest Value: \",max(arr))\n",
    "print(\"Minimum Value: \",min(arr))\n",
    "print(\"Sum of all elements: \",sum(arr))\n",
    "print(\"Sorting the array: \",np.sort(arr))\n",
    "print(\"Mean: \",np.mean(arr))\n",
    "print(\"Median: \",np.median(arr))\n",
    "print(\"Square root: \",np.sqrt(arr))\n",
    "print(np.prod(arr))\n",
    "print(np.std(arr))\n",
    "print(np.var(arr))\n",
    "print(np.cov(arr))"
   ]
  },
  {
   "cell_type": "code",
   "execution_count": null,
   "metadata": {},
   "outputs": [],
   "source": [
    "\"\"\"\n",
    "Comparison of Arrays\n",
    "\n",
    "We can use relational operators (>,>=,<,<=,=,!=) to compare the arrays of the same size.\n",
    "These operators compare the elements of the array and return another array with boolean values, it means the resultant array contains elements which are\n",
    "true or false.\n",
    "\n",
    "The any() can be used to determine if any one element of the array is true.\n",
    "The all() can be used to determine whether all the elements in the array are true.\n",
    "The logical_and(), logical_or() and logical_not() functions are useful to get the boolean array as a result of comparing the compund condition.\n",
    "The where() can be used to create a new array based on whether the given condition is true or false.\n",
    "\"\"\""
   ]
  },
  {
   "cell_type": "code",
   "execution_count": null,
   "metadata": {},
   "outputs": [],
   "source": []
  }
 ],
 "metadata": {
  "kernelspec": {
   "display_name": "Python 3.10.1 64-bit",
   "language": "python",
   "name": "python3"
  },
  "language_info": {
   "codemirror_mode": {
    "name": "ipython",
    "version": 3
   },
   "file_extension": ".py",
   "mimetype": "text/x-python",
   "name": "python",
   "nbconvert_exporter": "python",
   "pygments_lexer": "ipython3",
   "version": "3.10.1"
  },
  "orig_nbformat": 4,
  "vscode": {
   "interpreter": {
    "hash": "369f2c481f4da34e4445cda3fffd2e751bd1c4d706f27375911949ba6bb62e1c"
   }
  }
 },
 "nbformat": 4,
 "nbformat_minor": 2
}
