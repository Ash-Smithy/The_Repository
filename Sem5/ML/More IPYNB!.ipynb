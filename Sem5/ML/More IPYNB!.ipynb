{
 "cells": [
  {
   "cell_type": "code",
   "execution_count": 12,
   "metadata": {},
   "outputs": [
    {
     "data": {
      "text/plain": [
       "14"
      ]
     },
     "execution_count": 12,
     "metadata": {},
     "output_type": "execute_result"
    }
   ],
   "source": [
    "age = ['youth','youth','middle-aged','senior','senior','senior','middle-aged','youth','youth','senior','youth','middle-aged','middle-aged','senior']\n",
    "income=['high','high','high','medium','low','low','low','medium','low','medium','medium','medium','high','medium']\n",
    "student = ['No','No','No','No','Yes','Yes','Yes','No','Yes','Yes','Yes','No','Yes','No']\n",
    "credit_rating=['fair','excellent','fair','fair','fiar','excellent','excellent','fair','fair','fair','excellent','excellent','fair','excellent']\n",
    "buys_computer=['no','no','yes','yes','yes','no','yes','no','yes','yes','yes','yes','yes','no']\n",
    "len(buys_computer)\n"
   ]
  },
  {
   "cell_type": "code",
   "execution_count": 13,
   "metadata": {},
   "outputs": [
    {
     "name": "stdout",
     "output_type": "stream",
     "text": [
      "[2 2 0 1 1 1 0 2 2 1 2 0 0 1]\n",
      "[0 0 0 2 1 1 1 2 1 2 2 2 0 2]\n",
      "[0 0 0 0 1 1 1 0 1 1 1 0 1 0]\n",
      "[1 0 1 1 2 0 0 1 1 1 0 0 1 0]\n",
      "[0 0 1 1 1 0 1 0 1 1 1 1 1 0]\n",
      "Predicted Value:  [1]\n"
     ]
    }
   ],
   "source": [
    "from sklearn import preprocessing\n",
    "le = preprocessing.LabelEncoder()\n",
    "age_encoded = le.fit_transform(age)\n",
    "print(age_encoded)\n",
    "income_encoded=le.fit_transform(income)\n",
    "print(income_encoded)\n",
    "student_encoded=le.fit_transform(student)\n",
    "print(student_encoded)\n",
    "credit_encoded=le.fit_transform(credit_rating)\n",
    "print(credit_encoded)\n",
    "label = le.fit_transform(buys_computer)\n",
    "print(label)\n",
    "\n",
    "features=list(zip(age_encoded,income_encoded,student_encoded,credit_encoded))\n",
    "from sklearn.naive_bayes import GaussianNB\n",
    "model = GaussianNB()\n",
    "model.fit(features,label)\n",
    "predicted=model.predict([[2,2,1,1]])\n",
    "print(\"Predicted Value: \",predicted)"
   ]
  }
 ],
 "metadata": {
  "kernelspec": {
   "display_name": "Python 3.10.6 64-bit",
   "language": "python",
   "name": "python3"
  },
  "language_info": {
   "codemirror_mode": {
    "name": "ipython",
    "version": 3
   },
   "file_extension": ".py",
   "mimetype": "text/x-python",
   "name": "python",
   "nbconvert_exporter": "python",
   "pygments_lexer": "ipython3",
   "version": "3.10.6"
  },
  "orig_nbformat": 4,
  "vscode": {
   "interpreter": {
    "hash": "2d08b39f4dbef70f0d8175b93e3eb1909708a293dfc021300289f58bfc754009"
   }
  }
 },
 "nbformat": 4,
 "nbformat_minor": 2
}
