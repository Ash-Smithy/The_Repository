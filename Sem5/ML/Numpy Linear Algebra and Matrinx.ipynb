{
 "cells": [
  {
   "cell_type": "code",
   "execution_count": 7,
   "metadata": {},
   "outputs": [
    {
     "name": "stdout",
     "output_type": "stream",
     "text": [
      "[[19 22]\n",
      " [43 50]]\n",
      "70\n",
      "122\n"
     ]
    },
    {
     "ename": "TypeError",
     "evalue": "'module' object is not callable",
     "output_type": "error",
     "traceback": [
      "\u001b[1;31m---------------------------------------------------------------------------\u001b[0m",
      "\u001b[1;31mTypeError\u001b[0m                                 Traceback (most recent call last)",
      "\u001b[1;32mc:\\Users\\pjaas\\Documents\\GitHub\\The_Repository\\Sem5\\ML\\Numpy Linear Algebra and Matrinx.ipynb Cell 1'\u001b[0m in \u001b[0;36m<cell line: 15>\u001b[1;34m()\u001b[0m\n\u001b[0;32m     <a href='vscode-notebook-cell:/c%3A/Users/pjaas/Documents/GitHub/The_Repository/Sem5/ML/Numpy%20Linear%20Algebra%20and%20Matrinx.ipynb#ch0000000?line=10'>11</a>\u001b[0m b \u001b[39m=\u001b[39m np\u001b[39m.\u001b[39marray([\u001b[39m7\u001b[39m,\u001b[39m8\u001b[39m,\u001b[39m9\u001b[39m])\n\u001b[0;32m     <a href='vscode-notebook-cell:/c%3A/Users/pjaas/Documents/GitHub/The_Repository/Sem5/ML/Numpy%20Linear%20Algebra%20and%20Matrinx.ipynb#ch0000000?line=12'>13</a>\u001b[0m \u001b[39mprint\u001b[39m(np\u001b[39m.\u001b[39mmatmul(a,b))\n\u001b[1;32m---> <a href='vscode-notebook-cell:/c%3A/Users/pjaas/Documents/GitHub/The_Repository/Sem5/ML/Numpy%20Linear%20Algebra%20and%20Matrinx.ipynb#ch0000000?line=14'>15</a>\u001b[0m \u001b[39mprint\u001b[39m(np\u001b[39m.\u001b[39;49mlinalg(a))\n",
      "\u001b[1;31mTypeError\u001b[0m: 'module' object is not callable"
     ]
    }
   ],
   "source": [
    "import numpy as np\n",
    "arr1 = np.array([[1,2],[3,4]])\n",
    "arr2 = np.array([[5,6],[7,8]])\n",
    "\n",
    "#dot() gives the same result as matrix multiplication and vdot gives the result as the sum of product of both the arrays\n",
    "print(np.dot(arr1,arr2))\n",
    "print(np.vdot(arr1,arr2))\n",
    "\n",
    "#matrix multiplication functions\n",
    "a = np.array([4,5,6])\n",
    "b = np.array([7,8,9])\n",
    "\n",
    "print(np.matmul(a,b))\n",
    "\n",
    "print(np.linalg(a))\n"
   ]
  },
  {
   "cell_type": "code",
   "execution_count": 11,
   "metadata": {},
   "outputs": [
    {
     "name": "stdout",
     "output_type": "stream",
     "text": [
      "[  2.  -10.5   9. ]\n",
      "[[ -9. -10.]\n",
      " [  8.   9.]]\n"
     ]
    }
   ],
   "source": [
    "\n",
    "#numpy LinearAlgebra solve funtion\n",
    "#It is used to solve a linear matrix equation or a system of linear scalar funtions \n",
    "#The solve() calculates the exact x of a matrix equation ax=b where a,b are matrices\n",
    "#np.linalg.solve(arr1,arr2) where arr1 is the coefficient matrix and arr2 is the values matrix\n",
    "# For exaple \n",
    "a=np.array([[3,4,5],[1,2,3],[2,4,5]]) \n",
    "b=np.array([9,8,7])\n",
    "res=np.linalg.solve(a,b) #it is nothing but 3x + 4y +5z = 9,  x + 2y + 3z = 8 and 2x + 4y +5z = 7\n",
    "print(res)\n",
    "\n",
    "k = np.array([[7,8],[5,6]])\n",
    "i = np.array([[1,2],[3,4]])\n",
    "s=np.linalg.solve(k,i)\n",
    "print(s)"
   ]
  },
  {
   "cell_type": "code",
   "execution_count": 13,
   "metadata": {},
   "outputs": [
    {
     "name": "stdout",
     "output_type": "stream",
     "text": [
      "[[ 3.  -4. ]\n",
      " [-2.5  3.5]]\n"
     ]
    }
   ],
   "source": [
    "#Inverse\n",
    "#Inverse returns the multiplicate inverse of the input matrix\n",
    "#np.linalg.inv(matrix)\n",
    "\n",
    "a=np.array([[7,8],[5,6]])\n",
    "inver=np.linalg.inv(a)\n",
    "print(\"Inverse of matrix is: \",inver)"
   ]
  },
  {
   "cell_type": "code",
   "execution_count": 15,
   "metadata": {},
   "outputs": [
    {
     "name": "stdout",
     "output_type": "stream",
     "text": [
      "Trace of matrix is:  5\n"
     ]
    }
   ],
   "source": [
    "#Trace\n",
    "#Finds the summ of all elements of the principal diagonal\n",
    "\n",
    "m=np.array([[1,2],[3,4]])\n",
    "print(\"Trace of matrix is: \",np.trace(m))"
   ]
  },
  {
   "cell_type": "code",
   "execution_count": 19,
   "metadata": {},
   "outputs": [
    {
     "name": "stdout",
     "output_type": "stream",
     "text": [
      "Rank of matrix is:  2\n",
      "Power of matrix is:  [[ 7 10]\n",
      " [15 22]]\n"
     ]
    }
   ],
   "source": [
    "#Rank of a Matrix\n",
    "#Returns the rank of a matrix\n",
    "\n",
    "o=np.array([[1,2],[3,4]])\n",
    "print(\"Rank of matrix is: \",np.linalg.matrix_rank(o))\n",
    "\n",
    "#matrix_power calculates the power of the matrix 'm'. This methos raises square matrix to the integer power 'n'\n",
    "#Syntax: np.linalg.matrix_power(m,n)\n",
    "\n",
    "print(\"Power of matrix is: \",np.linalg.matrix_power(o,2))"
   ]
  },
  {
   "cell_type": "code",
   "execution_count": null,
   "metadata": {},
   "outputs": [],
   "source": [
    "#EigenValue (this conecept is in NumpyEigen....ipynb)\n",
    "#This function computes complex conjugate or real symmeteix matrices\n",
    "#val,vect=np.linalg.eig(a)"
   ]
  }
 ],
 "metadata": {
  "kernelspec": {
   "display_name": "Python 3.10.1 64-bit",
   "language": "python",
   "name": "python3"
  },
  "language_info": {
   "codemirror_mode": {
    "name": "ipython",
    "version": 3
   },
   "file_extension": ".py",
   "mimetype": "text/x-python",
   "name": "python",
   "nbconvert_exporter": "python",
   "pygments_lexer": "ipython3",
   "version": "3.10.1"
  },
  "orig_nbformat": 4,
  "vscode": {
   "interpreter": {
    "hash": "369f2c481f4da34e4445cda3fffd2e751bd1c4d706f27375911949ba6bb62e1c"
   }
  }
 },
 "nbformat": 4,
 "nbformat_minor": 2
}
