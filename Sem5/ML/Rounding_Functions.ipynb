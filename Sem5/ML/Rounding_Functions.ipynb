{
 "cells": [
  {
   "cell_type": "code",
   "execution_count": 1,
   "metadata": {},
   "outputs": [],
   "source": [
    "import numpy as np"
   ]
  },
  {
   "cell_type": "code",
   "execution_count": 4,
   "metadata": {},
   "outputs": [
    {
     "name": "stdout",
     "output_type": "stream",
     "text": [
      "Original array:  [  1.      5.55  123.      0.567  25.532]\n",
      "After rounding: \n",
      "[  1.   6. 123.   1.  26.]\n",
      "[  1.    5.6 123.    0.6  25.5]\n",
      "[  0.  10. 120.   0.  30.]\n"
     ]
    }
   ],
   "source": [
    "#np.around(array,decimals) returns the value rounded to the desired precision\n",
    "\n",
    "a=np.array([1.0,5.55,123,0.567,25.532])\n",
    "print(\"Original array: \",a)\n",
    "\n",
    "print(\"After rounding: \")\n",
    "print(np.around(a))\n",
    "print(np.around(a,decimals=1))\n",
    "print(np.around(a,decimals=-1))"
   ]
  },
  {
   "cell_type": "code",
   "execution_count": 16,
   "metadata": {},
   "outputs": [
    {
     "name": "stdout",
     "output_type": "stream",
     "text": [
      "The given array:  [-1.7  1.5 -0.2  0.6 10. ]\n",
      "After Flooring:  [-2.  1. -1.  0. 10.]\n",
      "After Ceiling:  [-1.  2. -0.  1. 10.]\n"
     ]
    }
   ],
   "source": [
    "#np.floor returns the largest integer not greater than the input parameter.\n",
    "\n",
    "b=np.array([-1.7,1.5,-0.2,0.6,10])\n",
    "print(\"The given array: \",b)\n",
    "\n",
    "print(\"After Flooring: \",np.floor(b))\n",
    "print(\"After Ceiling: \",np.ceil(b))"
   ]
  },
  {
   "cell_type": "code",
   "execution_count": 15,
   "metadata": {},
   "outputs": [
    {
     "name": "stdout",
     "output_type": "stream",
     "text": [
      "The array is: \n",
      " [[0. 1. 2.]\n",
      " [3. 4. 5.]\n",
      " [6. 7. 8.]]\n",
      "After Addition: \n",
      " [[10. 11. 12.]\n",
      " [13. 14. 15.]\n",
      " [16. 17. 18.]]\n",
      "After Subtration: \n",
      " [[-10.  -9.  -8.]\n",
      " [ -7.  -6.  -5.]\n",
      " [ -4.  -3.  -2.]]\n",
      "After multiplication: \n",
      " [[ 0. 10. 20.]\n",
      " [30. 40. 50.]\n",
      " [60. 70. 80.]]\n",
      "After division: \n",
      " [[0.  0.1 0.2]\n",
      " [0.3 0.4 0.5]\n",
      " [0.6 0.7 0.8]]\n"
     ]
    }
   ],
   "source": [
    "#add(),subtract(), miltiply(), divide()\n",
    "m=np.arange(9,dtype=np.float_).reshape(3,3)\n",
    "n=np.array([10,10,10])\n",
    "\n",
    "print(\"The array is: \\n\",m)\n",
    "print(\"After Addition: \\n\",np.add(m,n))\n",
    "print(\"After Subtration: \\n\",np.subtract(m,n))\n",
    "print(\"After multiplication: \\n\",np.multiply(m,n))\n",
    "print(\"After division: \\n\",np.divide(m,n))"
   ]
  },
  {
   "cell_type": "code",
   "execution_count": null,
   "metadata": {},
   "outputs": [],
   "source": []
  }
 ],
 "metadata": {
  "kernelspec": {
   "display_name": "Python 3.10.1 64-bit",
   "language": "python",
   "name": "python3"
  },
  "language_info": {
   "codemirror_mode": {
    "name": "ipython",
    "version": 3
   },
   "file_extension": ".py",
   "mimetype": "text/x-python",
   "name": "python",
   "nbconvert_exporter": "python",
   "pygments_lexer": "ipython3",
   "version": "3.10.1"
  },
  "orig_nbformat": 4,
  "vscode": {
   "interpreter": {
    "hash": "369f2c481f4da34e4445cda3fffd2e751bd1c4d706f27375911949ba6bb62e1c"
   }
  }
 },
 "nbformat": 4,
 "nbformat_minor": 2
}
